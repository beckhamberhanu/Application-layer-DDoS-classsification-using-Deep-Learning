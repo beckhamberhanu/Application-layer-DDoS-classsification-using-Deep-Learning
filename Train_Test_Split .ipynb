{
 "cells": [
  {
   "cell_type": "markdown",
   "id": "front-costume",
   "metadata": {},
   "source": [
    "Hold out cross validation 80/20"
   ]
  },
  {
   "cell_type": "code",
   "execution_count": null,
   "id": "efficient-diagram",
   "metadata": {},
   "outputs": [],
   "source": [
    "import pandas as pd\n",
    "from sklearn.model_selection import train_test_split"
   ]
  },
  {
   "cell_type": "code",
   "execution_count": null,
   "id": "spread-milton",
   "metadata": {},
   "outputs": [],
   "source": [
    "df = pd.read_csv('/home/bbm/Documents/Edu/AAU/Thesis/CICDDoS2019 Dataset/DS/Classified/AlDDoS.csv')\n",
    "df.columns = df.columns.str.strip()\n",
    "df.head()"
   ]
  },
  {
   "cell_type": "code",
   "execution_count": null,
   "id": "defensive-exhibition",
   "metadata": {},
   "outputs": [],
   "source": [
    "df['Label'].value_counts()"
   ]
  },
  {
   "cell_type": "code",
   "execution_count": null,
   "id": "manual-dayton",
   "metadata": {},
   "outputs": [],
   "source": [
    "X_train, X_test = train_test_split(df, test_size=0.2)\n",
    "df.shape, X_train.shape, X_test.shape"
   ]
  },
  {
   "cell_type": "code",
   "execution_count": null,
   "id": "nearby-nitrogen",
   "metadata": {},
   "outputs": [],
   "source": [
    "X_train['Label'].value_counts()"
   ]
  },
  {
   "cell_type": "code",
   "execution_count": null,
   "id": "uniform-logistics",
   "metadata": {},
   "outputs": [],
   "source": [
    "X_train.to_csv('/home/bbm/Documents/Edu/AAU/Thesis/CICDDoS2019 Dataset/DS/Classified/AlDDoS_train.csv', index = False)"
   ]
  },
  {
   "cell_type": "code",
   "execution_count": null,
   "id": "major-henry",
   "metadata": {},
   "outputs": [],
   "source": [
    "X_test.to_csv('/home/bbm/Documents/Edu/AAU/Thesis/CICDDoS2019 Dataset/DS/Classified/AlDDoS_test.csv', index = False)"
   ]
  }
 ],
 "metadata": {
  "kernelspec": {
   "display_name": "Python 3",
   "language": "python",
   "name": "python3"
  },
  "language_info": {
   "codemirror_mode": {
    "name": "ipython",
    "version": 3
   },
   "file_extension": ".py",
   "mimetype": "text/x-python",
   "name": "python",
   "nbconvert_exporter": "python",
   "pygments_lexer": "ipython3",
   "version": "3.8.10"
  }
 },
 "nbformat": 4,
 "nbformat_minor": 5
}
