{
 "cells": [
  {
   "cell_type": "markdown",
   "id": "turned-adult",
   "metadata": {},
   "source": [
    "To randomly pick desired sample size from a csv file and save it.  "
   ]
  },
  {
   "cell_type": "code",
   "execution_count": 19,
   "id": "pressed-parallel",
   "metadata": {},
   "outputs": [],
   "source": [
    "import pandas as pd\n",
    "import random\n",
    "\n",
    "# data = pd.read_csv('/home/bbm/Documents/Edu/AAU/Thesis/CICDDoS2019 Dataset/DS/Classified/DDoS_DNS.csv')\n",
    "\n",
    "n = 5071011 # number of records in file\n",
    "s = 20000 # desired sample size\n",
    "\n",
    "filename = \"/home/bbm/Documents/Edu/AAU/Thesis/CICDDoS2019 Dataset/DS/Classified/DDoS_DNS.csv\"\n",
    "skip = sorted(random.sample(range(1, n+1),n-s))\n",
    "df = pd.read_csv(filename, skiprows=skip)\n",
    "\n",
    "df.to_csv('/home/bbm/Documents/Edu/AAU/Thesis/CICDDoS2019 Dataset/DS/Classified/AlDDoS.csv', index = False)"
   ]
  },
  {
   "cell_type": "markdown",
   "id": "offshore-warehouse",
   "metadata": {},
   "source": [
    "To append new randomly selected instances to the existing csv file, this step will be done 9 times."
   ]
  },
  {
   "cell_type": "code",
   "execution_count": 18,
   "id": "hidden-plumbing",
   "metadata": {},
   "outputs": [],
   "source": [
    "import pandas as pd\n",
    "import random\n",
    "\n",
    "# data = pd.read_csv('/home/bbm/Documents/Edu/AAU/Thesis/CICDDoS2019 Dataset/DS/Classified/DDoS_DNS.csv')\n",
    "\n",
    "n = 3402 # number of records in file\n",
    "s = 1500 # desired sample size\n",
    "\n",
    "filename = \"/home/bbm/Documents/Edu/AAU/Thesis/CICDDoS2019 Dataset/DS/Classified/BENIGN_DNS.csv\"\n",
    "skip = sorted(random.sample(range(n),n-s))\n",
    "df = pd.read_csv(filename, skiprows=skip)\n",
    "\n",
    "df.to_csv('/home/bbm/Documents/Edu/AAU/Thesis/CICDDoS2019 Dataset/DS/Classified/AlDDoS.csv', mode='a', index = False, header=False)"
   ]
  },
  {
   "cell_type": "markdown",
   "id": "capital-flavor",
   "metadata": {},
   "source": [
    "Hold out cross validation 80/20"
   ]
  },
  {
   "cell_type": "code",
   "execution_count": 2,
   "id": "numerous-accent",
   "metadata": {},
   "outputs": [],
   "source": [
    "import pandas as pd\n",
    "from sklearn.model_selection import train_test_split"
   ]
  },
  {
   "cell_type": "code",
   "execution_count": 11,
   "id": "positive-forth",
   "metadata": {},
   "outputs": [
    {
     "data": {
      "text/html": [
       "<div>\n",
       "<style scoped>\n",
       "    .dataframe tbody tr th:only-of-type {\n",
       "        vertical-align: middle;\n",
       "    }\n",
       "\n",
       "    .dataframe tbody tr th {\n",
       "        vertical-align: top;\n",
       "    }\n",
       "\n",
       "    .dataframe thead th {\n",
       "        text-align: right;\n",
       "    }\n",
       "</style>\n",
       "<table border=\"1\" class=\"dataframe\">\n",
       "  <thead>\n",
       "    <tr style=\"text-align: right;\">\n",
       "      <th></th>\n",
       "      <th>Unnamed: 0</th>\n",
       "      <th>Flow ID</th>\n",
       "      <th>Source IP</th>\n",
       "      <th>Source Port</th>\n",
       "      <th>Destination IP</th>\n",
       "      <th>Destination Port</th>\n",
       "      <th>Protocol</th>\n",
       "      <th>Timestamp</th>\n",
       "      <th>Flow Duration</th>\n",
       "      <th>Total Fwd Packets</th>\n",
       "      <th>...</th>\n",
       "      <th>Active Std</th>\n",
       "      <th>Active Max</th>\n",
       "      <th>Active Min</th>\n",
       "      <th>Idle Mean</th>\n",
       "      <th>Idle Std</th>\n",
       "      <th>Idle Max</th>\n",
       "      <th>Idle Min</th>\n",
       "      <th>SimillarHTTP</th>\n",
       "      <th>Inbound</th>\n",
       "      <th>Label</th>\n",
       "    </tr>\n",
       "  </thead>\n",
       "  <tbody>\n",
       "    <tr>\n",
       "      <th>0</th>\n",
       "      <td>750</td>\n",
       "      <td>172.16.0.5-192.168.50.1-634-56837-17</td>\n",
       "      <td>172.16.0.5</td>\n",
       "      <td>634</td>\n",
       "      <td>192.168.50.1</td>\n",
       "      <td>56837</td>\n",
       "      <td>17</td>\n",
       "      <td>2018-12-01 10:51:44.467358</td>\n",
       "      <td>51876</td>\n",
       "      <td>200</td>\n",
       "      <td>...</td>\n",
       "      <td>0.0</td>\n",
       "      <td>0.0</td>\n",
       "      <td>0.0</td>\n",
       "      <td>0.0</td>\n",
       "      <td>0.0</td>\n",
       "      <td>0.0</td>\n",
       "      <td>0.0</td>\n",
       "      <td>0</td>\n",
       "      <td>1</td>\n",
       "      <td>DrDoS_DNS</td>\n",
       "    </tr>\n",
       "    <tr>\n",
       "      <th>1</th>\n",
       "      <td>584</td>\n",
       "      <td>172.16.0.5-192.168.50.1-634-57912-17</td>\n",
       "      <td>172.16.0.5</td>\n",
       "      <td>634</td>\n",
       "      <td>192.168.50.1</td>\n",
       "      <td>57912</td>\n",
       "      <td>17</td>\n",
       "      <td>2018-12-01 10:52:07.389959</td>\n",
       "      <td>3</td>\n",
       "      <td>2</td>\n",
       "      <td>...</td>\n",
       "      <td>0.0</td>\n",
       "      <td>0.0</td>\n",
       "      <td>0.0</td>\n",
       "      <td>0.0</td>\n",
       "      <td>0.0</td>\n",
       "      <td>0.0</td>\n",
       "      <td>0.0</td>\n",
       "      <td>0</td>\n",
       "      <td>1</td>\n",
       "      <td>DrDoS_DNS</td>\n",
       "    </tr>\n",
       "    <tr>\n",
       "      <th>2</th>\n",
       "      <td>3248</td>\n",
       "      <td>172.16.0.5-192.168.50.1-634-2500-17</td>\n",
       "      <td>172.16.0.5</td>\n",
       "      <td>634</td>\n",
       "      <td>192.168.50.1</td>\n",
       "      <td>2500</td>\n",
       "      <td>17</td>\n",
       "      <td>2018-12-01 10:53:00.111827</td>\n",
       "      <td>36869</td>\n",
       "      <td>200</td>\n",
       "      <td>...</td>\n",
       "      <td>0.0</td>\n",
       "      <td>0.0</td>\n",
       "      <td>0.0</td>\n",
       "      <td>0.0</td>\n",
       "      <td>0.0</td>\n",
       "      <td>0.0</td>\n",
       "      <td>0.0</td>\n",
       "      <td>0</td>\n",
       "      <td>1</td>\n",
       "      <td>DrDoS_DNS</td>\n",
       "    </tr>\n",
       "    <tr>\n",
       "      <th>3</th>\n",
       "      <td>1804</td>\n",
       "      <td>172.16.0.5-192.168.50.1-634-12106-17</td>\n",
       "      <td>172.16.0.5</td>\n",
       "      <td>634</td>\n",
       "      <td>192.168.50.1</td>\n",
       "      <td>12106</td>\n",
       "      <td>17</td>\n",
       "      <td>2018-12-01 10:53:55.757296</td>\n",
       "      <td>96620</td>\n",
       "      <td>200</td>\n",
       "      <td>...</td>\n",
       "      <td>0.0</td>\n",
       "      <td>0.0</td>\n",
       "      <td>0.0</td>\n",
       "      <td>0.0</td>\n",
       "      <td>0.0</td>\n",
       "      <td>0.0</td>\n",
       "      <td>0.0</td>\n",
       "      <td>0</td>\n",
       "      <td>1</td>\n",
       "      <td>DrDoS_DNS</td>\n",
       "    </tr>\n",
       "    <tr>\n",
       "      <th>4</th>\n",
       "      <td>1260</td>\n",
       "      <td>172.16.0.5-192.168.50.1-634-52998-17</td>\n",
       "      <td>172.16.0.5</td>\n",
       "      <td>634</td>\n",
       "      <td>192.168.50.1</td>\n",
       "      <td>52998</td>\n",
       "      <td>17</td>\n",
       "      <td>2018-12-01 10:54:26.832133</td>\n",
       "      <td>20771</td>\n",
       "      <td>90</td>\n",
       "      <td>...</td>\n",
       "      <td>0.0</td>\n",
       "      <td>0.0</td>\n",
       "      <td>0.0</td>\n",
       "      <td>0.0</td>\n",
       "      <td>0.0</td>\n",
       "      <td>0.0</td>\n",
       "      <td>0.0</td>\n",
       "      <td>0</td>\n",
       "      <td>1</td>\n",
       "      <td>DrDoS_DNS</td>\n",
       "    </tr>\n",
       "  </tbody>\n",
       "</table>\n",
       "<p>5 rows × 88 columns</p>\n",
       "</div>"
      ],
      "text/plain": [
       "   Unnamed: 0                               Flow ID   Source IP  Source Port  \\\n",
       "0         750  172.16.0.5-192.168.50.1-634-56837-17  172.16.0.5          634   \n",
       "1         584  172.16.0.5-192.168.50.1-634-57912-17  172.16.0.5          634   \n",
       "2        3248   172.16.0.5-192.168.50.1-634-2500-17  172.16.0.5          634   \n",
       "3        1804  172.16.0.5-192.168.50.1-634-12106-17  172.16.0.5          634   \n",
       "4        1260  172.16.0.5-192.168.50.1-634-52998-17  172.16.0.5          634   \n",
       "\n",
       "  Destination IP  Destination Port  Protocol                   Timestamp  \\\n",
       "0   192.168.50.1             56837        17  2018-12-01 10:51:44.467358   \n",
       "1   192.168.50.1             57912        17  2018-12-01 10:52:07.389959   \n",
       "2   192.168.50.1              2500        17  2018-12-01 10:53:00.111827   \n",
       "3   192.168.50.1             12106        17  2018-12-01 10:53:55.757296   \n",
       "4   192.168.50.1             52998        17  2018-12-01 10:54:26.832133   \n",
       "\n",
       "   Flow Duration  Total Fwd Packets  ...  Active Std  Active Max  Active Min  \\\n",
       "0          51876                200  ...         0.0         0.0         0.0   \n",
       "1              3                  2  ...         0.0         0.0         0.0   \n",
       "2          36869                200  ...         0.0         0.0         0.0   \n",
       "3          96620                200  ...         0.0         0.0         0.0   \n",
       "4          20771                 90  ...         0.0         0.0         0.0   \n",
       "\n",
       "   Idle Mean  Idle Std  Idle Max  Idle Min  SimillarHTTP  Inbound      Label  \n",
       "0        0.0       0.0       0.0       0.0             0        1  DrDoS_DNS  \n",
       "1        0.0       0.0       0.0       0.0             0        1  DrDoS_DNS  \n",
       "2        0.0       0.0       0.0       0.0             0        1  DrDoS_DNS  \n",
       "3        0.0       0.0       0.0       0.0             0        1  DrDoS_DNS  \n",
       "4        0.0       0.0       0.0       0.0             0        1  DrDoS_DNS  \n",
       "\n",
       "[5 rows x 88 columns]"
      ]
     },
     "execution_count": 11,
     "metadata": {},
     "output_type": "execute_result"
    }
   ],
   "source": [
    "df = pd.read_csv('/home/bbm/Documents/Edu/AAU/Thesis/CICDDoS2019 Dataset/DS/Classified/AlDDoS.csv')\n",
    "df.columns = df.columns.str.strip()\n",
    "df.head()"
   ]
  },
  {
   "cell_type": "code",
   "execution_count": 4,
   "id": "descending-modeling",
   "metadata": {},
   "outputs": [
    {
     "data": {
      "text/plain": [
       "DrDoS_LDAP    20000\n",
       "DrDoS_DNS     20000\n",
       "DrDoS_SNMP    20000\n",
       "BENIGN        20000\n",
       "DrDoS_NTP     20000\n",
       "TFTP          20000\n",
       "Name: Label, dtype: int64"
      ]
     },
     "execution_count": 4,
     "metadata": {},
     "output_type": "execute_result"
    }
   ],
   "source": [
    "df['Label'].value_counts()"
   ]
  },
  {
   "cell_type": "code",
   "execution_count": 10,
   "id": "light-operator",
   "metadata": {},
   "outputs": [
    {
     "data": {
      "text/plain": [
       "((120000, 88), (96000, 88), (24000, 88))"
      ]
     },
     "execution_count": 10,
     "metadata": {},
     "output_type": "execute_result"
    }
   ],
   "source": [
    "X_train, X_test = train_test_split(df, test_size=0.2)\n",
    "df.shape, X_train.shape, X_test.shape"
   ]
  },
  {
   "cell_type": "code",
   "execution_count": 6,
   "id": "prerequisite-nigeria",
   "metadata": {},
   "outputs": [
    {
     "data": {
      "text/plain": [
       "DrDoS_NTP     16040\n",
       "TFTP          16026\n",
       "BENIGN        16019\n",
       "DrDoS_SNMP    15999\n",
       "DrDoS_DNS     15982\n",
       "DrDoS_LDAP    15934\n",
       "Name: Label, dtype: int64"
      ]
     },
     "execution_count": 6,
     "metadata": {},
     "output_type": "execute_result"
    }
   ],
   "source": [
    "X_train['Label'].value_counts()"
   ]
  },
  {
   "cell_type": "code",
   "execution_count": 7,
   "id": "thermal-guyana",
   "metadata": {},
   "outputs": [
    {
     "data": {
      "text/plain": [
       "DrDoS_LDAP    4066\n",
       "DrDoS_DNS     4018\n",
       "DrDoS_SNMP    4001\n",
       "BENIGN        3981\n",
       "TFTP          3974\n",
       "DrDoS_NTP     3960\n",
       "Name: Label, dtype: int64"
      ]
     },
     "execution_count": 7,
     "metadata": {},
     "output_type": "execute_result"
    }
   ],
   "source": [
    "X_test['Label'].value_counts()"
   ]
  },
  {
   "cell_type": "code",
   "execution_count": 8,
   "id": "nutritional-burns",
   "metadata": {},
   "outputs": [],
   "source": [
    "X_train.to_csv('/home/bbm/Documents/Edu/AAU/Thesis/CICDDoS2019 Dataset/DS/Classified/AlDDoS_train.csv', index = False)"
   ]
  },
  {
   "cell_type": "code",
   "execution_count": 9,
   "id": "cardiovascular-ground",
   "metadata": {},
   "outputs": [],
   "source": [
    "X_test.to_csv('/home/bbm/Documents/Edu/AAU/Thesis/CICDDoS2019 Dataset/DS/Classified/AlDDoS_test.csv', index = False)"
   ]
  },
  {
   "cell_type": "markdown",
   "id": "attached-bacteria",
   "metadata": {},
   "source": [
    "Change categorical features into binary "
   ]
  },
  {
   "cell_type": "code",
   "execution_count": null,
   "id": "personal-quantity",
   "metadata": {},
   "outputs": [],
   "source": []
  }
 ],
 "metadata": {
  "kernelspec": {
   "display_name": "Python 3",
   "language": "python",
   "name": "python3"
  },
  "language_info": {
   "codemirror_mode": {
    "name": "ipython",
    "version": 3
   },
   "file_extension": ".py",
   "mimetype": "text/x-python",
   "name": "python",
   "nbconvert_exporter": "python",
   "pygments_lexer": "ipython3",
   "version": "3.8.10"
  }
 },
 "nbformat": 4,
 "nbformat_minor": 5
}
