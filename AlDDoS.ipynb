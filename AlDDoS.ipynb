{
 "cells": [
  {
   "cell_type": "code",
   "execution_count": 1,
   "id": "labeled-emergency",
   "metadata": {},
   "outputs": [],
   "source": [
    "import pandas as pd\n",
    "import numpy as np\n",
    "import sys\n",
    "import sklearn\n",
    "import io\n",
    "import random    "
   ]
  },
  {
   "cell_type": "code",
   "execution_count": 2,
   "id": "motivated-hands",
   "metadata": {},
   "outputs": [
    {
     "name": "stderr",
     "output_type": "stream",
     "text": [
      "/home/bbm/.local/lib/python3.8/site-packages/IPython/core/interactiveshell.py:3165: DtypeWarning: Columns (85) have mixed types.Specify dtype option on import or set low_memory=False.\n",
      "  has_raised = await self.run_ast_nodes(code_ast.body, cell_name,\n"
     ]
    },
    {
     "name": "stdout",
     "output_type": "stream",
     "text": [
      "Dimensions of the Training set: (120000, 88)\n"
     ]
    }
   ],
   "source": [
    "col_names = ['Unnamed','Flow_ID','Source_IP','Source_Port','Destination_IP','Destination_Port',\n",
    "             'Protocol','Timestamp','Flow_Duration','Total_Fwd_Packets','Total_Backward_Packets',\n",
    "             'Total_Length_of_Fwd_Packets','Total_Length_of_Bwd_Packets','Fwd_Packet_Length_Max','Fwd_Packet_Length_Min',\n",
    "             'Fwd_Packet_Length_Mean','Fwd_Packet_Length_Std','Bwd_Packet_Length_Max','Bwd_Packet_Length_Min',\n",
    "             'Bwd_Packet_Length_Mean','Bwd_Packet_Length_Std','Flow_Bytes/s','Flow_Packets/s','Flow_IAT_Mean', \n",
    "             'Flow_IAT_Std','Flow_IAT_Max','Flow_IAT_Min','Fwd_IAT_Total','Fwd_IAT_Mean','Fwd_IAT_Std','Fwd_IAT_Max',\n",
    "             'Fwd_IAT_Min','Bwd_IAT_Total','Bwd_IAT_Mean','Bwd_IAT_Std','Bwd_IAT_Max','Bwd_IAT_Min','Fwd_PSH_Flags',\n",
    "             'Bwd_PSH_Flags','Fwd_URG_Flags','Bwd_URG_Flags','Fwd_Header_Length','Bwd_Header_Length','Fwd_Packets/s',\n",
    "             'Bwd_Packets/s','Min_Packet_Length','Max_Packet_Length','Packet_Length_Mean','Packet_Length_Std',\n",
    "             'Packet_Length_Variance','FIN_Flag_Count','SYN_Flag_Count','RST_Flag_Count','PSH-Flag_Count',\n",
    "             'ACK_Flag_Count','URG_Flag_Count','CWE_Flag_Count','ECE_Flag_Count','Down/Up_Ratio','Average_Packet_Size',\n",
    "             'Avg_Fwd_Segment_Size','Avg_Bwd_Segment_Size','Fwd_Header_Length.1','Fwd_Avg_Bytes/Bulk',\n",
    "             'Fwd_Avg_Packets/Bulk','Fwd_Avg_Bulk_Rate','Bwd_Avg_Bytes/Bulk','Bwd_Avg_Packets/Bulk',\n",
    "             'Bwd_Avg_Bulk_Rate','Subflow_Fwd_Packets', 'Subflow_Fwd_Bytes', 'Subflow_Bwd_Packets', 'Subflow_Bwd_Bytes',\n",
    "             'Init_Win_bytes_forward','Init_Win_bytes_backward','act_data_pkt_fwd','min_seg_size_forward','Active_Mean',\n",
    "             'Active_Std','Active_Max','Active_Min','Idle_Mean','Idle_Std','Idle_Max','Idle_Min','SimillarHTTP',\n",
    "             'Inbound','Label']\n",
    "\n",
    "\n",
    "#Training set\n",
    "df = pd.read_csv(\"/home/bbm/Documents/Edu/AAU/Thesis/CICDDoS2019 Dataset/AlDDoS.csv\", header=None, names = col_names)\n",
    "# Testing set\n",
    "# df_test = pd.read_csv(\"/home/bbm/Documents/Edu/AAU/Thesis/CICDDoS2019 Dataset/DS/Classified/AlDDoS_testnoh.csv\", header=None, names = col_names)\n",
    "\n",
    "print('Dimensions of the Training set:',df.shape)\n",
    "# print('Dimensions of the Test set:',df_test.shape)"
   ]
  },
  {
   "cell_type": "code",
   "execution_count": 3,
   "id": "every-pathology",
   "metadata": {},
   "outputs": [
    {
     "data": {
      "text/html": [
       "<div>\n",
       "<style scoped>\n",
       "    .dataframe tbody tr th:only-of-type {\n",
       "        vertical-align: middle;\n",
       "    }\n",
       "\n",
       "    .dataframe tbody tr th {\n",
       "        vertical-align: top;\n",
       "    }\n",
       "\n",
       "    .dataframe thead th {\n",
       "        text-align: right;\n",
       "    }\n",
       "</style>\n",
       "<table border=\"1\" class=\"dataframe\">\n",
       "  <thead>\n",
       "    <tr style=\"text-align: right;\">\n",
       "      <th></th>\n",
       "      <th>Unnamed</th>\n",
       "      <th>Flow_ID</th>\n",
       "      <th>Source_IP</th>\n",
       "      <th>Source_Port</th>\n",
       "      <th>Destination_IP</th>\n",
       "      <th>Destination_Port</th>\n",
       "      <th>Protocol</th>\n",
       "      <th>Timestamp</th>\n",
       "      <th>Flow_Duration</th>\n",
       "      <th>Total_Fwd_Packets</th>\n",
       "      <th>...</th>\n",
       "      <th>Active_Std</th>\n",
       "      <th>Active_Max</th>\n",
       "      <th>Active_Min</th>\n",
       "      <th>Idle_Mean</th>\n",
       "      <th>Idle_Std</th>\n",
       "      <th>Idle_Max</th>\n",
       "      <th>Idle_Min</th>\n",
       "      <th>SimillarHTTP</th>\n",
       "      <th>Inbound</th>\n",
       "      <th>Label</th>\n",
       "    </tr>\n",
       "  </thead>\n",
       "  <tbody>\n",
       "    <tr>\n",
       "      <th>0</th>\n",
       "      <td>750</td>\n",
       "      <td>172.16.0.5-192.168.50.1-634-56837-17</td>\n",
       "      <td>172.16.0.5</td>\n",
       "      <td>634</td>\n",
       "      <td>192.168.50.1</td>\n",
       "      <td>56837</td>\n",
       "      <td>17</td>\n",
       "      <td>2018-12-01 10:51:44.467358</td>\n",
       "      <td>51876</td>\n",
       "      <td>200</td>\n",
       "      <td>...</td>\n",
       "      <td>0.0</td>\n",
       "      <td>0.0</td>\n",
       "      <td>0.0</td>\n",
       "      <td>0.0</td>\n",
       "      <td>0.0</td>\n",
       "      <td>0.0</td>\n",
       "      <td>0.0</td>\n",
       "      <td>0</td>\n",
       "      <td>1</td>\n",
       "      <td>DrDoS_DNS</td>\n",
       "    </tr>\n",
       "    <tr>\n",
       "      <th>1</th>\n",
       "      <td>584</td>\n",
       "      <td>172.16.0.5-192.168.50.1-634-57912-17</td>\n",
       "      <td>172.16.0.5</td>\n",
       "      <td>634</td>\n",
       "      <td>192.168.50.1</td>\n",
       "      <td>57912</td>\n",
       "      <td>17</td>\n",
       "      <td>2018-12-01 10:52:07.389959</td>\n",
       "      <td>3</td>\n",
       "      <td>2</td>\n",
       "      <td>...</td>\n",
       "      <td>0.0</td>\n",
       "      <td>0.0</td>\n",
       "      <td>0.0</td>\n",
       "      <td>0.0</td>\n",
       "      <td>0.0</td>\n",
       "      <td>0.0</td>\n",
       "      <td>0.0</td>\n",
       "      <td>0</td>\n",
       "      <td>1</td>\n",
       "      <td>DrDoS_DNS</td>\n",
       "    </tr>\n",
       "    <tr>\n",
       "      <th>2</th>\n",
       "      <td>3248</td>\n",
       "      <td>172.16.0.5-192.168.50.1-634-2500-17</td>\n",
       "      <td>172.16.0.5</td>\n",
       "      <td>634</td>\n",
       "      <td>192.168.50.1</td>\n",
       "      <td>2500</td>\n",
       "      <td>17</td>\n",
       "      <td>2018-12-01 10:53:00.111827</td>\n",
       "      <td>36869</td>\n",
       "      <td>200</td>\n",
       "      <td>...</td>\n",
       "      <td>0.0</td>\n",
       "      <td>0.0</td>\n",
       "      <td>0.0</td>\n",
       "      <td>0.0</td>\n",
       "      <td>0.0</td>\n",
       "      <td>0.0</td>\n",
       "      <td>0.0</td>\n",
       "      <td>0</td>\n",
       "      <td>1</td>\n",
       "      <td>DrDoS_DNS</td>\n",
       "    </tr>\n",
       "    <tr>\n",
       "      <th>3</th>\n",
       "      <td>1804</td>\n",
       "      <td>172.16.0.5-192.168.50.1-634-12106-17</td>\n",
       "      <td>172.16.0.5</td>\n",
       "      <td>634</td>\n",
       "      <td>192.168.50.1</td>\n",
       "      <td>12106</td>\n",
       "      <td>17</td>\n",
       "      <td>2018-12-01 10:53:55.757296</td>\n",
       "      <td>96620</td>\n",
       "      <td>200</td>\n",
       "      <td>...</td>\n",
       "      <td>0.0</td>\n",
       "      <td>0.0</td>\n",
       "      <td>0.0</td>\n",
       "      <td>0.0</td>\n",
       "      <td>0.0</td>\n",
       "      <td>0.0</td>\n",
       "      <td>0.0</td>\n",
       "      <td>0</td>\n",
       "      <td>1</td>\n",
       "      <td>DrDoS_DNS</td>\n",
       "    </tr>\n",
       "    <tr>\n",
       "      <th>4</th>\n",
       "      <td>1260</td>\n",
       "      <td>172.16.0.5-192.168.50.1-634-52998-17</td>\n",
       "      <td>172.16.0.5</td>\n",
       "      <td>634</td>\n",
       "      <td>192.168.50.1</td>\n",
       "      <td>52998</td>\n",
       "      <td>17</td>\n",
       "      <td>2018-12-01 10:54:26.832133</td>\n",
       "      <td>20771</td>\n",
       "      <td>90</td>\n",
       "      <td>...</td>\n",
       "      <td>0.0</td>\n",
       "      <td>0.0</td>\n",
       "      <td>0.0</td>\n",
       "      <td>0.0</td>\n",
       "      <td>0.0</td>\n",
       "      <td>0.0</td>\n",
       "      <td>0.0</td>\n",
       "      <td>0</td>\n",
       "      <td>1</td>\n",
       "      <td>DrDoS_DNS</td>\n",
       "    </tr>\n",
       "  </tbody>\n",
       "</table>\n",
       "<p>5 rows × 88 columns</p>\n",
       "</div>"
      ],
      "text/plain": [
       "   Unnamed                               Flow_ID   Source_IP  Source_Port  \\\n",
       "0      750  172.16.0.5-192.168.50.1-634-56837-17  172.16.0.5          634   \n",
       "1      584  172.16.0.5-192.168.50.1-634-57912-17  172.16.0.5          634   \n",
       "2     3248   172.16.0.5-192.168.50.1-634-2500-17  172.16.0.5          634   \n",
       "3     1804  172.16.0.5-192.168.50.1-634-12106-17  172.16.0.5          634   \n",
       "4     1260  172.16.0.5-192.168.50.1-634-52998-17  172.16.0.5          634   \n",
       "\n",
       "  Destination_IP  Destination_Port  Protocol                   Timestamp  \\\n",
       "0   192.168.50.1             56837        17  2018-12-01 10:51:44.467358   \n",
       "1   192.168.50.1             57912        17  2018-12-01 10:52:07.389959   \n",
       "2   192.168.50.1              2500        17  2018-12-01 10:53:00.111827   \n",
       "3   192.168.50.1             12106        17  2018-12-01 10:53:55.757296   \n",
       "4   192.168.50.1             52998        17  2018-12-01 10:54:26.832133   \n",
       "\n",
       "   Flow_Duration  Total_Fwd_Packets  ...  Active_Std  Active_Max  Active_Min  \\\n",
       "0          51876                200  ...         0.0         0.0         0.0   \n",
       "1              3                  2  ...         0.0         0.0         0.0   \n",
       "2          36869                200  ...         0.0         0.0         0.0   \n",
       "3          96620                200  ...         0.0         0.0         0.0   \n",
       "4          20771                 90  ...         0.0         0.0         0.0   \n",
       "\n",
       "   Idle_Mean  Idle_Std  Idle_Max  Idle_Min  SimillarHTTP  Inbound      Label  \n",
       "0        0.0       0.0       0.0       0.0             0        1  DrDoS_DNS  \n",
       "1        0.0       0.0       0.0       0.0             0        1  DrDoS_DNS  \n",
       "2        0.0       0.0       0.0       0.0             0        1  DrDoS_DNS  \n",
       "3        0.0       0.0       0.0       0.0             0        1  DrDoS_DNS  \n",
       "4        0.0       0.0       0.0       0.0             0        1  DrDoS_DNS  \n",
       "\n",
       "[5 rows x 88 columns]"
      ]
     },
     "execution_count": 3,
     "metadata": {},
     "output_type": "execute_result"
    }
   ],
   "source": [
    "df.columns = df.columns.str.strip()\n",
    "df.head(5)"
   ]
  },
  {
   "cell_type": "code",
   "execution_count": 4,
   "id": "blank-rebecca",
   "metadata": {},
   "outputs": [
    {
     "data": {
      "text/plain": [
       "DrDoS_NTP     20000\n",
       "TFTP          20000\n",
       "DrDoS_SNMP    20000\n",
       "BENIGN        20000\n",
       "DrDoS_LDAP    20000\n",
       "DrDoS_DNS     20000\n",
       "Name: Label, dtype: int64"
      ]
     },
     "execution_count": 4,
     "metadata": {},
     "output_type": "execute_result"
    }
   ],
   "source": [
    "df['Label'].value_counts()"
   ]
  },
  {
   "cell_type": "code",
   "execution_count": 5,
   "id": "artistic-forum",
   "metadata": {},
   "outputs": [],
   "source": [
    "df = df.drop(['Unnamed'], axis = 1)"
   ]
  },
  {
   "cell_type": "code",
   "execution_count": 6,
   "id": "authentic-effect",
   "metadata": {},
   "outputs": [
    {
     "data": {
      "text/plain": [
       "Index(['Flow_ID', 'Source_IP', 'Source_Port', 'Destination_IP',\n",
       "       'Destination_Port', 'Protocol', 'Timestamp', 'Flow_Duration',\n",
       "       'Total_Fwd_Packets', 'Total_Backward_Packets',\n",
       "       'Total_Length_of_Fwd_Packets', 'Total_Length_of_Bwd_Packets',\n",
       "       'Fwd_Packet_Length_Max', 'Fwd_Packet_Length_Min',\n",
       "       'Fwd_Packet_Length_Mean', 'Fwd_Packet_Length_Std',\n",
       "       'Bwd_Packet_Length_Max', 'Bwd_Packet_Length_Min',\n",
       "       'Bwd_Packet_Length_Mean', 'Bwd_Packet_Length_Std', 'Flow_Bytes/s',\n",
       "       'Flow_Packets/s', 'Flow_IAT_Mean', 'Flow_IAT_Std', 'Flow_IAT_Max',\n",
       "       'Flow_IAT_Min', 'Fwd_IAT_Total', 'Fwd_IAT_Mean', 'Fwd_IAT_Std',\n",
       "       'Fwd_IAT_Max', 'Fwd_IAT_Min', 'Bwd_IAT_Total', 'Bwd_IAT_Mean',\n",
       "       'Bwd_IAT_Std', 'Bwd_IAT_Max', 'Bwd_IAT_Min', 'Fwd_PSH_Flags',\n",
       "       'Bwd_PSH_Flags', 'Fwd_URG_Flags', 'Bwd_URG_Flags', 'Fwd_Header_Length',\n",
       "       'Bwd_Header_Length', 'Fwd_Packets/s', 'Bwd_Packets/s',\n",
       "       'Min_Packet_Length', 'Max_Packet_Length', 'Packet_Length_Mean',\n",
       "       'Packet_Length_Std', 'Packet_Length_Variance', 'FIN_Flag_Count',\n",
       "       'SYN_Flag_Count', 'RST_Flag_Count', 'PSH-Flag_Count', 'ACK_Flag_Count',\n",
       "       'URG_Flag_Count', 'CWE_Flag_Count', 'ECE_Flag_Count', 'Down/Up_Ratio',\n",
       "       'Average_Packet_Size', 'Avg_Fwd_Segment_Size', 'Avg_Bwd_Segment_Size',\n",
       "       'Fwd_Header_Length.1', 'Fwd_Avg_Bytes/Bulk', 'Fwd_Avg_Packets/Bulk',\n",
       "       'Fwd_Avg_Bulk_Rate', 'Bwd_Avg_Bytes/Bulk', 'Bwd_Avg_Packets/Bulk',\n",
       "       'Bwd_Avg_Bulk_Rate', 'Subflow_Fwd_Packets', 'Subflow_Fwd_Bytes',\n",
       "       'Subflow_Bwd_Packets', 'Subflow_Bwd_Bytes', 'Init_Win_bytes_forward',\n",
       "       'Init_Win_bytes_backward', 'act_data_pkt_fwd', 'min_seg_size_forward',\n",
       "       'Active_Mean', 'Active_Std', 'Active_Max', 'Active_Min', 'Idle_Mean',\n",
       "       'Idle_Std', 'Idle_Max', 'Idle_Min', 'SimillarHTTP', 'Inbound', 'Label'],\n",
       "      dtype='object')"
      ]
     },
     "execution_count": 6,
     "metadata": {},
     "output_type": "execute_result"
    }
   ],
   "source": [
    "df.columns"
   ]
  },
  {
   "cell_type": "code",
   "execution_count": 7,
   "id": "final-carroll",
   "metadata": {},
   "outputs": [
    {
     "data": {
      "text/plain": [
       "3922"
      ]
     },
     "execution_count": 7,
     "metadata": {},
     "output_type": "execute_result"
    }
   ],
   "source": [
    "data = df.replace(np.inf, np.nan)\n",
    "data.isnull().sum().sum()"
   ]
  },
  {
   "cell_type": "code",
   "execution_count": 8,
   "id": "generous-charlotte",
   "metadata": {},
   "outputs": [
    {
     "data": {
      "text/plain": [
       "0"
      ]
     },
     "execution_count": 8,
     "metadata": {},
     "output_type": "execute_result"
    }
   ],
   "source": [
    "df = data.dropna(axis=0)\n",
    "df.isnull().sum().sum()"
   ]
  },
  {
   "cell_type": "code",
   "execution_count": 9,
   "id": "second-eagle",
   "metadata": {},
   "outputs": [
    {
     "data": {
      "text/html": [
       "<div>\n",
       "<style scoped>\n",
       "    .dataframe tbody tr th:only-of-type {\n",
       "        vertical-align: middle;\n",
       "    }\n",
       "\n",
       "    .dataframe tbody tr th {\n",
       "        vertical-align: top;\n",
       "    }\n",
       "\n",
       "    .dataframe thead th {\n",
       "        text-align: right;\n",
       "    }\n",
       "</style>\n",
       "<table border=\"1\" class=\"dataframe\">\n",
       "  <thead>\n",
       "    <tr style=\"text-align: right;\">\n",
       "      <th></th>\n",
       "      <th>Flow_ID</th>\n",
       "      <th>Source_IP</th>\n",
       "      <th>Source_Port</th>\n",
       "      <th>Destination_IP</th>\n",
       "      <th>Destination_Port</th>\n",
       "      <th>Protocol</th>\n",
       "      <th>Timestamp</th>\n",
       "      <th>Flow_Duration</th>\n",
       "      <th>Total_Fwd_Packets</th>\n",
       "      <th>Total_Backward_Packets</th>\n",
       "      <th>...</th>\n",
       "      <th>Active_Std</th>\n",
       "      <th>Active_Max</th>\n",
       "      <th>Active_Min</th>\n",
       "      <th>Idle_Mean</th>\n",
       "      <th>Idle_Std</th>\n",
       "      <th>Idle_Max</th>\n",
       "      <th>Idle_Min</th>\n",
       "      <th>SimillarHTTP</th>\n",
       "      <th>Inbound</th>\n",
       "      <th>Label</th>\n",
       "    </tr>\n",
       "  </thead>\n",
       "  <tbody>\n",
       "    <tr>\n",
       "      <th>0</th>\n",
       "      <td>172.16.0.5-192.168.50.1-634-56837-17</td>\n",
       "      <td>172.16.0.5</td>\n",
       "      <td>634</td>\n",
       "      <td>192.168.50.1</td>\n",
       "      <td>56837</td>\n",
       "      <td>17</td>\n",
       "      <td>2018-12-01 10:51:44.467358</td>\n",
       "      <td>51876</td>\n",
       "      <td>200</td>\n",
       "      <td>0</td>\n",
       "      <td>...</td>\n",
       "      <td>0.0</td>\n",
       "      <td>0.0</td>\n",
       "      <td>0.0</td>\n",
       "      <td>0.0</td>\n",
       "      <td>0.0</td>\n",
       "      <td>0.0</td>\n",
       "      <td>0.0</td>\n",
       "      <td>0</td>\n",
       "      <td>1</td>\n",
       "      <td>DrDoS_DNS</td>\n",
       "    </tr>\n",
       "    <tr>\n",
       "      <th>1</th>\n",
       "      <td>172.16.0.5-192.168.50.1-634-57912-17</td>\n",
       "      <td>172.16.0.5</td>\n",
       "      <td>634</td>\n",
       "      <td>192.168.50.1</td>\n",
       "      <td>57912</td>\n",
       "      <td>17</td>\n",
       "      <td>2018-12-01 10:52:07.389959</td>\n",
       "      <td>3</td>\n",
       "      <td>2</td>\n",
       "      <td>0</td>\n",
       "      <td>...</td>\n",
       "      <td>0.0</td>\n",
       "      <td>0.0</td>\n",
       "      <td>0.0</td>\n",
       "      <td>0.0</td>\n",
       "      <td>0.0</td>\n",
       "      <td>0.0</td>\n",
       "      <td>0.0</td>\n",
       "      <td>0</td>\n",
       "      <td>1</td>\n",
       "      <td>DrDoS_DNS</td>\n",
       "    </tr>\n",
       "    <tr>\n",
       "      <th>2</th>\n",
       "      <td>172.16.0.5-192.168.50.1-634-2500-17</td>\n",
       "      <td>172.16.0.5</td>\n",
       "      <td>634</td>\n",
       "      <td>192.168.50.1</td>\n",
       "      <td>2500</td>\n",
       "      <td>17</td>\n",
       "      <td>2018-12-01 10:53:00.111827</td>\n",
       "      <td>36869</td>\n",
       "      <td>200</td>\n",
       "      <td>0</td>\n",
       "      <td>...</td>\n",
       "      <td>0.0</td>\n",
       "      <td>0.0</td>\n",
       "      <td>0.0</td>\n",
       "      <td>0.0</td>\n",
       "      <td>0.0</td>\n",
       "      <td>0.0</td>\n",
       "      <td>0.0</td>\n",
       "      <td>0</td>\n",
       "      <td>1</td>\n",
       "      <td>DrDoS_DNS</td>\n",
       "    </tr>\n",
       "    <tr>\n",
       "      <th>3</th>\n",
       "      <td>172.16.0.5-192.168.50.1-634-12106-17</td>\n",
       "      <td>172.16.0.5</td>\n",
       "      <td>634</td>\n",
       "      <td>192.168.50.1</td>\n",
       "      <td>12106</td>\n",
       "      <td>17</td>\n",
       "      <td>2018-12-01 10:53:55.757296</td>\n",
       "      <td>96620</td>\n",
       "      <td>200</td>\n",
       "      <td>0</td>\n",
       "      <td>...</td>\n",
       "      <td>0.0</td>\n",
       "      <td>0.0</td>\n",
       "      <td>0.0</td>\n",
       "      <td>0.0</td>\n",
       "      <td>0.0</td>\n",
       "      <td>0.0</td>\n",
       "      <td>0.0</td>\n",
       "      <td>0</td>\n",
       "      <td>1</td>\n",
       "      <td>DrDoS_DNS</td>\n",
       "    </tr>\n",
       "    <tr>\n",
       "      <th>4</th>\n",
       "      <td>172.16.0.5-192.168.50.1-634-52998-17</td>\n",
       "      <td>172.16.0.5</td>\n",
       "      <td>634</td>\n",
       "      <td>192.168.50.1</td>\n",
       "      <td>52998</td>\n",
       "      <td>17</td>\n",
       "      <td>2018-12-01 10:54:26.832133</td>\n",
       "      <td>20771</td>\n",
       "      <td>90</td>\n",
       "      <td>0</td>\n",
       "      <td>...</td>\n",
       "      <td>0.0</td>\n",
       "      <td>0.0</td>\n",
       "      <td>0.0</td>\n",
       "      <td>0.0</td>\n",
       "      <td>0.0</td>\n",
       "      <td>0.0</td>\n",
       "      <td>0.0</td>\n",
       "      <td>0</td>\n",
       "      <td>1</td>\n",
       "      <td>DrDoS_DNS</td>\n",
       "    </tr>\n",
       "    <tr>\n",
       "      <th>...</th>\n",
       "      <td>...</td>\n",
       "      <td>...</td>\n",
       "      <td>...</td>\n",
       "      <td>...</td>\n",
       "      <td>...</td>\n",
       "      <td>...</td>\n",
       "      <td>...</td>\n",
       "      <td>...</td>\n",
       "      <td>...</td>\n",
       "      <td>...</td>\n",
       "      <td>...</td>\n",
       "      <td>...</td>\n",
       "      <td>...</td>\n",
       "      <td>...</td>\n",
       "      <td>...</td>\n",
       "      <td>...</td>\n",
       "      <td>...</td>\n",
       "      <td>...</td>\n",
       "      <td>...</td>\n",
       "      <td>...</td>\n",
       "      <td>...</td>\n",
       "    </tr>\n",
       "    <tr>\n",
       "      <th>119995</th>\n",
       "      <td>192.168.50.8-204.154.111.130-61630-443-6</td>\n",
       "      <td>192.168.50.8</td>\n",
       "      <td>61630</td>\n",
       "      <td>204.154.111.130</td>\n",
       "      <td>443</td>\n",
       "      <td>6</td>\n",
       "      <td>2018-12-01 17:15:43.863729</td>\n",
       "      <td>1612931</td>\n",
       "      <td>14</td>\n",
       "      <td>17</td>\n",
       "      <td>...</td>\n",
       "      <td>0.0</td>\n",
       "      <td>0.0</td>\n",
       "      <td>0.0</td>\n",
       "      <td>0.0</td>\n",
       "      <td>0.0</td>\n",
       "      <td>0.0</td>\n",
       "      <td>0.0</td>\n",
       "      <td>0</td>\n",
       "      <td>0</td>\n",
       "      <td>BENIGN</td>\n",
       "    </tr>\n",
       "    <tr>\n",
       "      <th>119996</th>\n",
       "      <td>192.168.50.8-204.154.111.130-61630-443-6</td>\n",
       "      <td>204.154.111.130</td>\n",
       "      <td>443</td>\n",
       "      <td>192.168.50.8</td>\n",
       "      <td>61630</td>\n",
       "      <td>6</td>\n",
       "      <td>2018-12-01 17:15:45.476661</td>\n",
       "      <td>350</td>\n",
       "      <td>1</td>\n",
       "      <td>3</td>\n",
       "      <td>...</td>\n",
       "      <td>0.0</td>\n",
       "      <td>0.0</td>\n",
       "      <td>0.0</td>\n",
       "      <td>0.0</td>\n",
       "      <td>0.0</td>\n",
       "      <td>0.0</td>\n",
       "      <td>0.0</td>\n",
       "      <td>0</td>\n",
       "      <td>1</td>\n",
       "      <td>BENIGN</td>\n",
       "    </tr>\n",
       "    <tr>\n",
       "      <th>119997</th>\n",
       "      <td>192.168.10.50-192.168.50.8-22-61631-6</td>\n",
       "      <td>192.168.50.8</td>\n",
       "      <td>61631</td>\n",
       "      <td>192.168.10.50</td>\n",
       "      <td>22</td>\n",
       "      <td>6</td>\n",
       "      <td>2018-12-01 17:16:09.958323</td>\n",
       "      <td>9016288</td>\n",
       "      <td>6</td>\n",
       "      <td>0</td>\n",
       "      <td>...</td>\n",
       "      <td>0.0</td>\n",
       "      <td>3009226.0</td>\n",
       "      <td>3009226.0</td>\n",
       "      <td>6007059.0</td>\n",
       "      <td>0.0</td>\n",
       "      <td>6007059.0</td>\n",
       "      <td>6007059.0</td>\n",
       "      <td>0</td>\n",
       "      <td>1</td>\n",
       "      <td>BENIGN</td>\n",
       "    </tr>\n",
       "    <tr>\n",
       "      <th>119998</th>\n",
       "      <td>192.168.50.8-204.154.111.130-61632-443-6</td>\n",
       "      <td>192.168.50.8</td>\n",
       "      <td>61632</td>\n",
       "      <td>204.154.111.130</td>\n",
       "      <td>443</td>\n",
       "      <td>6</td>\n",
       "      <td>2018-12-01 17:16:12.341928</td>\n",
       "      <td>21193</td>\n",
       "      <td>1</td>\n",
       "      <td>2</td>\n",
       "      <td>...</td>\n",
       "      <td>0.0</td>\n",
       "      <td>0.0</td>\n",
       "      <td>0.0</td>\n",
       "      <td>0.0</td>\n",
       "      <td>0.0</td>\n",
       "      <td>0.0</td>\n",
       "      <td>0.0</td>\n",
       "      <td>0</td>\n",
       "      <td>0</td>\n",
       "      <td>BENIGN</td>\n",
       "    </tr>\n",
       "    <tr>\n",
       "      <th>119999</th>\n",
       "      <td>192.168.50.8-74.208.236.171-61633-80-6</td>\n",
       "      <td>74.208.236.171</td>\n",
       "      <td>80</td>\n",
       "      <td>192.168.50.8</td>\n",
       "      <td>61633</td>\n",
       "      <td>6</td>\n",
       "      <td>2018-12-01 17:16:19.388501</td>\n",
       "      <td>201</td>\n",
       "      <td>1</td>\n",
       "      <td>2</td>\n",
       "      <td>...</td>\n",
       "      <td>0.0</td>\n",
       "      <td>0.0</td>\n",
       "      <td>0.0</td>\n",
       "      <td>0.0</td>\n",
       "      <td>0.0</td>\n",
       "      <td>0.0</td>\n",
       "      <td>0.0</td>\n",
       "      <td>0</td>\n",
       "      <td>1</td>\n",
       "      <td>BENIGN</td>\n",
       "    </tr>\n",
       "  </tbody>\n",
       "</table>\n",
       "<p>118039 rows × 87 columns</p>\n",
       "</div>"
      ],
      "text/plain": [
       "                                         Flow_ID        Source_IP  \\\n",
       "0           172.16.0.5-192.168.50.1-634-56837-17       172.16.0.5   \n",
       "1           172.16.0.5-192.168.50.1-634-57912-17       172.16.0.5   \n",
       "2            172.16.0.5-192.168.50.1-634-2500-17       172.16.0.5   \n",
       "3           172.16.0.5-192.168.50.1-634-12106-17       172.16.0.5   \n",
       "4           172.16.0.5-192.168.50.1-634-52998-17       172.16.0.5   \n",
       "...                                          ...              ...   \n",
       "119995  192.168.50.8-204.154.111.130-61630-443-6     192.168.50.8   \n",
       "119996  192.168.50.8-204.154.111.130-61630-443-6  204.154.111.130   \n",
       "119997     192.168.10.50-192.168.50.8-22-61631-6     192.168.50.8   \n",
       "119998  192.168.50.8-204.154.111.130-61632-443-6     192.168.50.8   \n",
       "119999    192.168.50.8-74.208.236.171-61633-80-6   74.208.236.171   \n",
       "\n",
       "        Source_Port   Destination_IP  Destination_Port  Protocol  \\\n",
       "0               634     192.168.50.1             56837        17   \n",
       "1               634     192.168.50.1             57912        17   \n",
       "2               634     192.168.50.1              2500        17   \n",
       "3               634     192.168.50.1             12106        17   \n",
       "4               634     192.168.50.1             52998        17   \n",
       "...             ...              ...               ...       ...   \n",
       "119995        61630  204.154.111.130               443         6   \n",
       "119996          443     192.168.50.8             61630         6   \n",
       "119997        61631    192.168.10.50                22         6   \n",
       "119998        61632  204.154.111.130               443         6   \n",
       "119999           80     192.168.50.8             61633         6   \n",
       "\n",
       "                         Timestamp  Flow_Duration  Total_Fwd_Packets  \\\n",
       "0       2018-12-01 10:51:44.467358          51876                200   \n",
       "1       2018-12-01 10:52:07.389959              3                  2   \n",
       "2       2018-12-01 10:53:00.111827          36869                200   \n",
       "3       2018-12-01 10:53:55.757296          96620                200   \n",
       "4       2018-12-01 10:54:26.832133          20771                 90   \n",
       "...                            ...            ...                ...   \n",
       "119995  2018-12-01 17:15:43.863729        1612931                 14   \n",
       "119996  2018-12-01 17:15:45.476661            350                  1   \n",
       "119997  2018-12-01 17:16:09.958323        9016288                  6   \n",
       "119998  2018-12-01 17:16:12.341928          21193                  1   \n",
       "119999  2018-12-01 17:16:19.388501            201                  1   \n",
       "\n",
       "        Total_Backward_Packets  ...  Active_Std  Active_Max  Active_Min  \\\n",
       "0                            0  ...         0.0         0.0         0.0   \n",
       "1                            0  ...         0.0         0.0         0.0   \n",
       "2                            0  ...         0.0         0.0         0.0   \n",
       "3                            0  ...         0.0         0.0         0.0   \n",
       "4                            0  ...         0.0         0.0         0.0   \n",
       "...                        ...  ...         ...         ...         ...   \n",
       "119995                      17  ...         0.0         0.0         0.0   \n",
       "119996                       3  ...         0.0         0.0         0.0   \n",
       "119997                       0  ...         0.0   3009226.0   3009226.0   \n",
       "119998                       2  ...         0.0         0.0         0.0   \n",
       "119999                       2  ...         0.0         0.0         0.0   \n",
       "\n",
       "        Idle_Mean  Idle_Std   Idle_Max   Idle_Min  SimillarHTTP  Inbound  \\\n",
       "0             0.0       0.0        0.0        0.0             0        1   \n",
       "1             0.0       0.0        0.0        0.0             0        1   \n",
       "2             0.0       0.0        0.0        0.0             0        1   \n",
       "3             0.0       0.0        0.0        0.0             0        1   \n",
       "4             0.0       0.0        0.0        0.0             0        1   \n",
       "...           ...       ...        ...        ...           ...      ...   \n",
       "119995        0.0       0.0        0.0        0.0             0        0   \n",
       "119996        0.0       0.0        0.0        0.0             0        1   \n",
       "119997  6007059.0       0.0  6007059.0  6007059.0             0        1   \n",
       "119998        0.0       0.0        0.0        0.0             0        0   \n",
       "119999        0.0       0.0        0.0        0.0             0        1   \n",
       "\n",
       "            Label  \n",
       "0       DrDoS_DNS  \n",
       "1       DrDoS_DNS  \n",
       "2       DrDoS_DNS  \n",
       "3       DrDoS_DNS  \n",
       "4       DrDoS_DNS  \n",
       "...           ...  \n",
       "119995     BENIGN  \n",
       "119996     BENIGN  \n",
       "119997     BENIGN  \n",
       "119998     BENIGN  \n",
       "119999     BENIGN  \n",
       "\n",
       "[118039 rows x 87 columns]"
      ]
     },
     "execution_count": 9,
     "metadata": {},
     "output_type": "execute_result"
    }
   ],
   "source": [
    "df"
   ]
  },
  {
   "cell_type": "code",
   "execution_count": 10,
   "id": "explicit-pendant",
   "metadata": {},
   "outputs": [
    {
     "data": {
      "text/plain": [
       "Index(['Flow_ID', 'Source_IP', 'Source_Port', 'Destination_IP',\n",
       "       'Destination_Port', 'Protocol', 'Timestamp', 'Flow_Duration',\n",
       "       'Total_Fwd_Packets', 'Total_Backward_Packets',\n",
       "       'Total_Length_of_Fwd_Packets', 'Total_Length_of_Bwd_Packets',\n",
       "       'Fwd_Packet_Length_Max', 'Fwd_Packet_Length_Min',\n",
       "       'Fwd_Packet_Length_Mean', 'Fwd_Packet_Length_Std',\n",
       "       'Bwd_Packet_Length_Max', 'Bwd_Packet_Length_Min',\n",
       "       'Bwd_Packet_Length_Mean', 'Bwd_Packet_Length_Std', 'Flow_Bytes/s',\n",
       "       'Flow_Packets/s', 'Flow_IAT_Mean', 'Flow_IAT_Std', 'Flow_IAT_Max',\n",
       "       'Flow_IAT_Min', 'Fwd_IAT_Total', 'Fwd_IAT_Mean', 'Fwd_IAT_Std',\n",
       "       'Fwd_IAT_Max', 'Fwd_IAT_Min', 'Bwd_IAT_Total', 'Bwd_IAT_Mean',\n",
       "       'Bwd_IAT_Std', 'Bwd_IAT_Max', 'Bwd_IAT_Min', 'Fwd_PSH_Flags',\n",
       "       'Bwd_PSH_Flags', 'Fwd_URG_Flags', 'Bwd_URG_Flags', 'Fwd_Header_Length',\n",
       "       'Bwd_Header_Length', 'Fwd_Packets/s', 'Bwd_Packets/s',\n",
       "       'Min_Packet_Length', 'Max_Packet_Length', 'Packet_Length_Mean',\n",
       "       'Packet_Length_Std', 'Packet_Length_Variance', 'FIN_Flag_Count',\n",
       "       'SYN_Flag_Count', 'RST_Flag_Count', 'PSH-Flag_Count', 'ACK_Flag_Count',\n",
       "       'URG_Flag_Count', 'CWE_Flag_Count', 'ECE_Flag_Count', 'Down/Up_Ratio',\n",
       "       'Average_Packet_Size', 'Avg_Fwd_Segment_Size', 'Avg_Bwd_Segment_Size',\n",
       "       'Fwd_Header_Length.1', 'Fwd_Avg_Bytes/Bulk', 'Fwd_Avg_Packets/Bulk',\n",
       "       'Fwd_Avg_Bulk_Rate', 'Bwd_Avg_Bytes/Bulk', 'Bwd_Avg_Packets/Bulk',\n",
       "       'Bwd_Avg_Bulk_Rate', 'Subflow_Fwd_Packets', 'Subflow_Fwd_Bytes',\n",
       "       'Subflow_Bwd_Packets', 'Subflow_Bwd_Bytes', 'Init_Win_bytes_forward',\n",
       "       'Init_Win_bytes_backward', 'act_data_pkt_fwd', 'min_seg_size_forward',\n",
       "       'Active_Mean', 'Active_Std', 'Active_Max', 'Active_Min', 'Idle_Mean',\n",
       "       'Idle_Std', 'Idle_Max', 'Idle_Min', 'Inbound'],\n",
       "      dtype='object')"
      ]
     },
     "execution_count": 10,
     "metadata": {},
     "output_type": "execute_result"
    }
   ],
   "source": [
    "data_X = df.drop(['Label', 'SimillarHTTP'], axis = 1) \n",
    "data_X.columns "
   ]
  },
  {
   "cell_type": "code",
   "execution_count": 11,
   "id": "coastal-rebate",
   "metadata": {},
   "outputs": [
    {
     "data": {
      "text/plain": [
       "(118039, 85)"
      ]
     },
     "execution_count": 11,
     "metadata": {},
     "output_type": "execute_result"
    }
   ],
   "source": [
    "data_X.shape "
   ]
  },
  {
   "cell_type": "code",
   "execution_count": 12,
   "id": "needed-working",
   "metadata": {},
   "outputs": [
    {
     "data": {
      "text/plain": [
       "(118039,)"
      ]
     },
     "execution_count": 12,
     "metadata": {},
     "output_type": "execute_result"
    }
   ],
   "source": [
    "data_y = df['Label']\n",
    "data_y.shape "
   ]
  },
  {
   "cell_type": "code",
   "execution_count": 13,
   "id": "specified-slovenia",
   "metadata": {},
   "outputs": [
    {
     "data": {
      "text/plain": [
       "array(['DrDoS_DNS', 'BENIGN', 'DrDoS_LDAP', 'DrDoS_NTP', 'DrDoS_SNMP',\n",
       "       'TFTP'], dtype=object)"
      ]
     },
     "execution_count": 13,
     "metadata": {},
     "output_type": "execute_result"
    }
   ],
   "source": [
    "data_y.unique()"
   ]
  },
  {
   "cell_type": "code",
   "execution_count": 14,
   "id": "coordinated-rouge",
   "metadata": {},
   "outputs": [
    {
     "name": "stdout",
     "output_type": "stream",
     "text": [
      "Training set:\n",
      "Feature 'Flow_ID' has 110284 categories\n",
      "Feature 'Source_IP' has 433 categories\n",
      "Feature 'Destination_IP' has 513 categories\n",
      "Feature 'Timestamp' has 118019 categories\n",
      "Feature 'SimillarHTTP' has 214 categories\n",
      "Feature 'Label' has 6 categories\n",
      "\n",
      "Distribution of categories in Source_IP:\n",
      "172.16.0.5        98148\n",
      "192.168.50.6       5426\n",
      "192.168.50.7       5210\n",
      "192.168.50.8       5027\n",
      "74.208.236.171      456\n",
      "Name: Source_IP, dtype: int64\n"
     ]
    }
   ],
   "source": [
    "print('Training set:')\n",
    "for col_name in df.columns:\n",
    "    if df[col_name].dtypes == 'object' :\n",
    "        unique_cat = len(df[col_name].unique())\n",
    "        print(\"Feature '{col_name}' has {unique_cat} categories\".format(col_name=col_name, unique_cat=unique_cat))\n",
    "\n",
    "print()\n",
    "print('Distribution of categories in Source_IP:')\n",
    "print(df['Source_IP'].value_counts().sort_values(ascending=False).head())"
   ]
  },
  {
   "cell_type": "code",
   "execution_count": 15,
   "id": "stunning-newport",
   "metadata": {},
   "outputs": [],
   "source": [
    "from sklearn.preprocessing import LabelEncoder "
   ]
  },
  {
   "cell_type": "code",
   "execution_count": 16,
   "id": "liked-oregon",
   "metadata": {},
   "outputs": [],
   "source": [
    "le = LabelEncoder()"
   ]
  },
  {
   "cell_type": "code",
   "execution_count": 17,
   "id": "metropolitan-bunch",
   "metadata": {},
   "outputs": [],
   "source": [
    "data_y_trans = le.fit_transform(data_y)"
   ]
  },
  {
   "cell_type": "code",
   "execution_count": 18,
   "id": "selective-hacker",
   "metadata": {},
   "outputs": [
    {
     "data": {
      "text/plain": [
       "array([1, 1, 1, ..., 0, 0, 0])"
      ]
     },
     "execution_count": 18,
     "metadata": {},
     "output_type": "execute_result"
    }
   ],
   "source": [
    "data_y_trans"
   ]
  },
  {
   "cell_type": "code",
   "execution_count": 19,
   "id": "polyphonic-bridal",
   "metadata": {},
   "outputs": [],
   "source": [
    "le_fid = LabelEncoder()\n",
    "le_fid.fit(data_X['Flow_ID'])\n",
    "data_X['Flow_ID'] = le_fid.fit_transform(data_X['Flow_ID'])\n",
    "\n",
    "le_fid = LabelEncoder()\n",
    "le_fid.fit(data_X['Source_IP'])\n",
    "data_X['Source_IP'] = le_fid.fit_transform(data_X['Source_IP'])\n",
    "\n",
    "le_fid = LabelEncoder()\n",
    "le_fid.fit(data_X['Destination_IP'])\n",
    "data_X['Destination_IP'] = le_fid.fit_transform(data_X['Destination_IP'])\n",
    "\n",
    "le_fid = LabelEncoder()\n",
    "le_fid.fit(data_X['Timestamp'])\n",
    "data_X['Timestamp'] = le_fid.fit_transform(data_X['Timestamp'])"
   ]
  },
  {
   "cell_type": "code",
   "execution_count": 20,
   "id": "hungarian-instrumentation",
   "metadata": {},
   "outputs": [
    {
     "data": {
      "text/html": [
       "<div>\n",
       "<style scoped>\n",
       "    .dataframe tbody tr th:only-of-type {\n",
       "        vertical-align: middle;\n",
       "    }\n",
       "\n",
       "    .dataframe tbody tr th {\n",
       "        vertical-align: top;\n",
       "    }\n",
       "\n",
       "    .dataframe thead th {\n",
       "        text-align: right;\n",
       "    }\n",
       "</style>\n",
       "<table border=\"1\" class=\"dataframe\">\n",
       "  <thead>\n",
       "    <tr style=\"text-align: right;\">\n",
       "      <th></th>\n",
       "      <th>Flow_ID</th>\n",
       "      <th>Source_IP</th>\n",
       "      <th>Source_Port</th>\n",
       "      <th>Destination_IP</th>\n",
       "      <th>Destination_Port</th>\n",
       "      <th>Protocol</th>\n",
       "      <th>Timestamp</th>\n",
       "      <th>Flow_Duration</th>\n",
       "      <th>Total_Fwd_Packets</th>\n",
       "      <th>Total_Backward_Packets</th>\n",
       "      <th>...</th>\n",
       "      <th>min_seg_size_forward</th>\n",
       "      <th>Active_Mean</th>\n",
       "      <th>Active_Std</th>\n",
       "      <th>Active_Max</th>\n",
       "      <th>Active_Min</th>\n",
       "      <th>Idle_Mean</th>\n",
       "      <th>Idle_Std</th>\n",
       "      <th>Idle_Max</th>\n",
       "      <th>Idle_Min</th>\n",
       "      <th>Inbound</th>\n",
       "    </tr>\n",
       "  </thead>\n",
       "  <tbody>\n",
       "    <tr>\n",
       "      <th>0</th>\n",
       "      <td>41726</td>\n",
       "      <td>33</td>\n",
       "      <td>634</td>\n",
       "      <td>186</td>\n",
       "      <td>56837</td>\n",
       "      <td>17</td>\n",
       "      <td>26848</td>\n",
       "      <td>51876</td>\n",
       "      <td>200</td>\n",
       "      <td>0</td>\n",
       "      <td>...</td>\n",
       "      <td>0</td>\n",
       "      <td>0.0</td>\n",
       "      <td>0.0</td>\n",
       "      <td>0.0</td>\n",
       "      <td>0.0</td>\n",
       "      <td>0.0</td>\n",
       "      <td>0.0</td>\n",
       "      <td>0.0</td>\n",
       "      <td>0.0</td>\n",
       "      <td>1</td>\n",
       "    </tr>\n",
       "    <tr>\n",
       "      <th>1</th>\n",
       "      <td>41784</td>\n",
       "      <td>33</td>\n",
       "      <td>634</td>\n",
       "      <td>186</td>\n",
       "      <td>57912</td>\n",
       "      <td>17</td>\n",
       "      <td>26856</td>\n",
       "      <td>3</td>\n",
       "      <td>2</td>\n",
       "      <td>0</td>\n",
       "      <td>...</td>\n",
       "      <td>20</td>\n",
       "      <td>0.0</td>\n",
       "      <td>0.0</td>\n",
       "      <td>0.0</td>\n",
       "      <td>0.0</td>\n",
       "      <td>0.0</td>\n",
       "      <td>0.0</td>\n",
       "      <td>0.0</td>\n",
       "      <td>0.0</td>\n",
       "      <td>1</td>\n",
       "    </tr>\n",
       "    <tr>\n",
       "      <th>2</th>\n",
       "      <td>40060</td>\n",
       "      <td>33</td>\n",
       "      <td>634</td>\n",
       "      <td>186</td>\n",
       "      <td>2500</td>\n",
       "      <td>17</td>\n",
       "      <td>27166</td>\n",
       "      <td>36869</td>\n",
       "      <td>200</td>\n",
       "      <td>0</td>\n",
       "      <td>...</td>\n",
       "      <td>0</td>\n",
       "      <td>0.0</td>\n",
       "      <td>0.0</td>\n",
       "      <td>0.0</td>\n",
       "      <td>0.0</td>\n",
       "      <td>0.0</td>\n",
       "      <td>0.0</td>\n",
       "      <td>0.0</td>\n",
       "      <td>0.0</td>\n",
       "      <td>1</td>\n",
       "    </tr>\n",
       "    <tr>\n",
       "      <th>3</th>\n",
       "      <td>39353</td>\n",
       "      <td>33</td>\n",
       "      <td>634</td>\n",
       "      <td>186</td>\n",
       "      <td>12106</td>\n",
       "      <td>17</td>\n",
       "      <td>27216</td>\n",
       "      <td>96620</td>\n",
       "      <td>200</td>\n",
       "      <td>0</td>\n",
       "      <td>...</td>\n",
       "      <td>8</td>\n",
       "      <td>0.0</td>\n",
       "      <td>0.0</td>\n",
       "      <td>0.0</td>\n",
       "      <td>0.0</td>\n",
       "      <td>0.0</td>\n",
       "      <td>0.0</td>\n",
       "      <td>0.0</td>\n",
       "      <td>0.0</td>\n",
       "      <td>1</td>\n",
       "    </tr>\n",
       "    <tr>\n",
       "      <th>4</th>\n",
       "      <td>41533</td>\n",
       "      <td>33</td>\n",
       "      <td>634</td>\n",
       "      <td>186</td>\n",
       "      <td>52998</td>\n",
       "      <td>17</td>\n",
       "      <td>27270</td>\n",
       "      <td>20771</td>\n",
       "      <td>90</td>\n",
       "      <td>0</td>\n",
       "      <td>...</td>\n",
       "      <td>0</td>\n",
       "      <td>0.0</td>\n",
       "      <td>0.0</td>\n",
       "      <td>0.0</td>\n",
       "      <td>0.0</td>\n",
       "      <td>0.0</td>\n",
       "      <td>0.0</td>\n",
       "      <td>0.0</td>\n",
       "      <td>0.0</td>\n",
       "      <td>1</td>\n",
       "    </tr>\n",
       "    <tr>\n",
       "      <th>...</th>\n",
       "      <td>...</td>\n",
       "      <td>...</td>\n",
       "      <td>...</td>\n",
       "      <td>...</td>\n",
       "      <td>...</td>\n",
       "      <td>...</td>\n",
       "      <td>...</td>\n",
       "      <td>...</td>\n",
       "      <td>...</td>\n",
       "      <td>...</td>\n",
       "      <td>...</td>\n",
       "      <td>...</td>\n",
       "      <td>...</td>\n",
       "      <td>...</td>\n",
       "      <td>...</td>\n",
       "      <td>...</td>\n",
       "      <td>...</td>\n",
       "      <td>...</td>\n",
       "      <td>...</td>\n",
       "      <td>...</td>\n",
       "      <td>...</td>\n",
       "    </tr>\n",
       "    <tr>\n",
       "      <th>119995</th>\n",
       "      <td>107311</td>\n",
       "      <td>171</td>\n",
       "      <td>61630</td>\n",
       "      <td>212</td>\n",
       "      <td>443</td>\n",
       "      <td>6</td>\n",
       "      <td>118013</td>\n",
       "      <td>1612931</td>\n",
       "      <td>14</td>\n",
       "      <td>17</td>\n",
       "      <td>...</td>\n",
       "      <td>20</td>\n",
       "      <td>0.0</td>\n",
       "      <td>0.0</td>\n",
       "      <td>0.0</td>\n",
       "      <td>0.0</td>\n",
       "      <td>0.0</td>\n",
       "      <td>0.0</td>\n",
       "      <td>0.0</td>\n",
       "      <td>0.0</td>\n",
       "      <td>0</td>\n",
       "    </tr>\n",
       "    <tr>\n",
       "      <th>119996</th>\n",
       "      <td>107311</td>\n",
       "      <td>193</td>\n",
       "      <td>443</td>\n",
       "      <td>191</td>\n",
       "      <td>61630</td>\n",
       "      <td>6</td>\n",
       "      <td>118014</td>\n",
       "      <td>350</td>\n",
       "      <td>1</td>\n",
       "      <td>3</td>\n",
       "      <td>...</td>\n",
       "      <td>20</td>\n",
       "      <td>0.0</td>\n",
       "      <td>0.0</td>\n",
       "      <td>0.0</td>\n",
       "      <td>0.0</td>\n",
       "      <td>0.0</td>\n",
       "      <td>0.0</td>\n",
       "      <td>0.0</td>\n",
       "      <td>0.0</td>\n",
       "      <td>1</td>\n",
       "    </tr>\n",
       "    <tr>\n",
       "      <th>119997</th>\n",
       "      <td>100134</td>\n",
       "      <td>171</td>\n",
       "      <td>61631</td>\n",
       "      <td>185</td>\n",
       "      <td>22</td>\n",
       "      <td>6</td>\n",
       "      <td>118015</td>\n",
       "      <td>9016288</td>\n",
       "      <td>6</td>\n",
       "      <td>0</td>\n",
       "      <td>...</td>\n",
       "      <td>28</td>\n",
       "      <td>3009226.0</td>\n",
       "      <td>0.0</td>\n",
       "      <td>3009226.0</td>\n",
       "      <td>3009226.0</td>\n",
       "      <td>6007059.0</td>\n",
       "      <td>0.0</td>\n",
       "      <td>6007059.0</td>\n",
       "      <td>6007059.0</td>\n",
       "      <td>1</td>\n",
       "    </tr>\n",
       "    <tr>\n",
       "      <th>119998</th>\n",
       "      <td>107312</td>\n",
       "      <td>171</td>\n",
       "      <td>61632</td>\n",
       "      <td>212</td>\n",
       "      <td>443</td>\n",
       "      <td>6</td>\n",
       "      <td>118016</td>\n",
       "      <td>21193</td>\n",
       "      <td>1</td>\n",
       "      <td>2</td>\n",
       "      <td>...</td>\n",
       "      <td>20</td>\n",
       "      <td>0.0</td>\n",
       "      <td>0.0</td>\n",
       "      <td>0.0</td>\n",
       "      <td>0.0</td>\n",
       "      <td>0.0</td>\n",
       "      <td>0.0</td>\n",
       "      <td>0.0</td>\n",
       "      <td>0.0</td>\n",
       "      <td>0</td>\n",
       "    </tr>\n",
       "    <tr>\n",
       "      <th>119999</th>\n",
       "      <td>109997</td>\n",
       "      <td>404</td>\n",
       "      <td>80</td>\n",
       "      <td>191</td>\n",
       "      <td>61633</td>\n",
       "      <td>6</td>\n",
       "      <td>118017</td>\n",
       "      <td>201</td>\n",
       "      <td>1</td>\n",
       "      <td>2</td>\n",
       "      <td>...</td>\n",
       "      <td>20</td>\n",
       "      <td>0.0</td>\n",
       "      <td>0.0</td>\n",
       "      <td>0.0</td>\n",
       "      <td>0.0</td>\n",
       "      <td>0.0</td>\n",
       "      <td>0.0</td>\n",
       "      <td>0.0</td>\n",
       "      <td>0.0</td>\n",
       "      <td>1</td>\n",
       "    </tr>\n",
       "  </tbody>\n",
       "</table>\n",
       "<p>118039 rows × 85 columns</p>\n",
       "</div>"
      ],
      "text/plain": [
       "        Flow_ID  Source_IP  Source_Port  Destination_IP  Destination_Port  \\\n",
       "0         41726         33          634             186             56837   \n",
       "1         41784         33          634             186             57912   \n",
       "2         40060         33          634             186              2500   \n",
       "3         39353         33          634             186             12106   \n",
       "4         41533         33          634             186             52998   \n",
       "...         ...        ...          ...             ...               ...   \n",
       "119995   107311        171        61630             212               443   \n",
       "119996   107311        193          443             191             61630   \n",
       "119997   100134        171        61631             185                22   \n",
       "119998   107312        171        61632             212               443   \n",
       "119999   109997        404           80             191             61633   \n",
       "\n",
       "        Protocol  Timestamp  Flow_Duration  Total_Fwd_Packets  \\\n",
       "0             17      26848          51876                200   \n",
       "1             17      26856              3                  2   \n",
       "2             17      27166          36869                200   \n",
       "3             17      27216          96620                200   \n",
       "4             17      27270          20771                 90   \n",
       "...          ...        ...            ...                ...   \n",
       "119995         6     118013        1612931                 14   \n",
       "119996         6     118014            350                  1   \n",
       "119997         6     118015        9016288                  6   \n",
       "119998         6     118016          21193                  1   \n",
       "119999         6     118017            201                  1   \n",
       "\n",
       "        Total_Backward_Packets  ...  min_seg_size_forward  Active_Mean  \\\n",
       "0                            0  ...                     0          0.0   \n",
       "1                            0  ...                    20          0.0   \n",
       "2                            0  ...                     0          0.0   \n",
       "3                            0  ...                     8          0.0   \n",
       "4                            0  ...                     0          0.0   \n",
       "...                        ...  ...                   ...          ...   \n",
       "119995                      17  ...                    20          0.0   \n",
       "119996                       3  ...                    20          0.0   \n",
       "119997                       0  ...                    28    3009226.0   \n",
       "119998                       2  ...                    20          0.0   \n",
       "119999                       2  ...                    20          0.0   \n",
       "\n",
       "        Active_Std  Active_Max  Active_Min  Idle_Mean  Idle_Std   Idle_Max  \\\n",
       "0              0.0         0.0         0.0        0.0       0.0        0.0   \n",
       "1              0.0         0.0         0.0        0.0       0.0        0.0   \n",
       "2              0.0         0.0         0.0        0.0       0.0        0.0   \n",
       "3              0.0         0.0         0.0        0.0       0.0        0.0   \n",
       "4              0.0         0.0         0.0        0.0       0.0        0.0   \n",
       "...            ...         ...         ...        ...       ...        ...   \n",
       "119995         0.0         0.0         0.0        0.0       0.0        0.0   \n",
       "119996         0.0         0.0         0.0        0.0       0.0        0.0   \n",
       "119997         0.0   3009226.0   3009226.0  6007059.0       0.0  6007059.0   \n",
       "119998         0.0         0.0         0.0        0.0       0.0        0.0   \n",
       "119999         0.0         0.0         0.0        0.0       0.0        0.0   \n",
       "\n",
       "         Idle_Min  Inbound  \n",
       "0             0.0        1  \n",
       "1             0.0        1  \n",
       "2             0.0        1  \n",
       "3             0.0        1  \n",
       "4             0.0        1  \n",
       "...           ...      ...  \n",
       "119995        0.0        0  \n",
       "119996        0.0        1  \n",
       "119997  6007059.0        1  \n",
       "119998        0.0        0  \n",
       "119999        0.0        1  \n",
       "\n",
       "[118039 rows x 85 columns]"
      ]
     },
     "execution_count": 20,
     "metadata": {},
     "output_type": "execute_result"
    }
   ],
   "source": [
    "data_X"
   ]
  },
  {
   "cell_type": "code",
   "execution_count": 21,
   "id": "fatal-dimension",
   "metadata": {},
   "outputs": [
    {
     "data": {
      "text/plain": [
       "Flow_ID               int64\n",
       "Source_IP             int64\n",
       "Source_Port           int64\n",
       "Destination_IP        int64\n",
       "Destination_Port      int64\n",
       "                     ...   \n",
       "Idle_Mean           float64\n",
       "Idle_Std            float64\n",
       "Idle_Max            float64\n",
       "Idle_Min            float64\n",
       "Inbound               int64\n",
       "Length: 85, dtype: object"
      ]
     },
     "execution_count": 21,
     "metadata": {},
     "output_type": "execute_result"
    }
   ],
   "source": [
    "data_X.dtypes"
   ]
  },
  {
   "cell_type": "code",
   "execution_count": 22,
   "id": "intensive-devil",
   "metadata": {},
   "outputs": [
    {
     "data": {
      "text/plain": [
       "ExtraTreesClassifier(random_state=42)"
      ]
     },
     "execution_count": 22,
     "metadata": {},
     "output_type": "execute_result"
    }
   ],
   "source": [
    "from sklearn.feature_selection import chi2 \n",
    "from sklearn.feature_selection import SelectKBest \n",
    "from sklearn.ensemble import ExtraTreesClassifier\n",
    "\n",
    "#selecting 20 best features\n",
    "# select_best= SelectKBest(chi2, k=20)\n",
    "# X_feat_20 = select_best.fit_transform(data_X, data_y_trans)\n",
    "# X_feat_20.shape\n",
    "\n",
    "model = ExtraTreesClassifier(random_state=42)\n",
    "model.fit(data_X, data_y_trans)\n",
    "\n",
    "# model_T = ExtraTreesClassifier(random_state=42)\n",
    "# model_T.fit(data_T, data_Ty_trans)"
   ]
  },
  {
   "cell_type": "code",
   "execution_count": 23,
   "id": "settled-twelve",
   "metadata": {},
   "outputs": [
    {
     "data": {
      "text/plain": [
       "array([3.41851393e-02, 2.05194140e-02, 6.99746035e-02, 1.12274019e-02,\n",
       "       1.72712127e-02, 2.35345863e-02, 2.75051122e-01, 2.53140690e-03,\n",
       "       4.22405914e-03, 2.71015690e-03, 7.96523286e-03, 1.95769144e-05,\n",
       "       1.56391619e-02, 5.96979723e-02, 3.87723122e-02, 2.67151082e-03,\n",
       "       2.08267138e-04, 3.00703754e-03, 2.38422865e-03, 3.27467388e-04,\n",
       "       3.38038248e-02, 2.02651212e-02, 7.47820552e-03, 4.81467585e-03,\n",
       "       3.80871100e-03, 4.93271854e-03, 3.12102018e-03, 6.07054263e-03,\n",
       "       2.38597745e-03, 3.07383980e-03, 2.87134136e-03, 2.55221577e-04,\n",
       "       8.88605112e-05, 1.21832777e-04, 6.91702240e-05, 1.11985967e-03,\n",
       "       1.64426731e-03, 0.00000000e+00, 0.00000000e+00, 0.00000000e+00,\n",
       "       5.64403283e-03, 7.45703009e-05, 1.71472355e-02, 7.08963128e-04,\n",
       "       6.03002082e-02, 2.29967778e-02, 3.56258951e-02, 8.17901004e-04,\n",
       "       4.82771377e-04, 0.00000000e+00, 9.31314796e-06, 7.96093060e-04,\n",
       "       0.00000000e+00, 1.81787784e-03, 1.03868288e-02, 2.38316100e-03,\n",
       "       0.00000000e+00, 6.42669548e-03, 3.94761554e-02, 3.71371983e-02,\n",
       "       1.50005314e-04, 5.60839981e-03, 0.00000000e+00, 0.00000000e+00,\n",
       "       0.00000000e+00, 0.00000000e+00, 0.00000000e+00, 0.00000000e+00,\n",
       "       2.49254901e-03, 1.07090583e-02, 9.94888005e-04, 4.38178441e-04,\n",
       "       1.29871217e-03, 1.02443996e-04, 5.24672136e-03, 5.97853774e-03,\n",
       "       1.65185930e-05, 1.86439191e-07, 1.19294096e-05, 2.08521319e-05,\n",
       "       7.55930782e-05, 9.17224421e-06, 1.97855586e-04, 7.04511275e-05,\n",
       "       3.64992086e-02])"
      ]
     },
     "execution_count": 23,
     "metadata": {},
     "output_type": "execute_result"
    }
   ],
   "source": [
    "model.feature_importances_"
   ]
  },
  {
   "cell_type": "code",
   "execution_count": 24,
   "id": "closed-table",
   "metadata": {},
   "outputs": [
    {
     "data": {
      "text/plain": [
       "<AxesSubplot:title={'center':'Standardised Dataset Feature Selection using ExtraTreesClassifier'}>"
      ]
     },
     "execution_count": 24,
     "metadata": {},
     "output_type": "execute_result"
    },
    {
     "data": {
      "image/png": "[encoded data removed]",
      "text/plain": [
       "<Figure size 432x288 with 1 Axes>"
      ]
     },
     "metadata": {
      "needs_background": "light"
     },
     "output_type": "display_data"
    }
   ],
   "source": [
    "feature_importance_std = pd.Series(model.feature_importances_, index=data_X.columns)\n",
    "feature_importance_std.nlargest(20).plot(kind='bar', title='Standardised Dataset Feature Selection using ExtraTreesClassifier')"
   ]
  },
  {
   "cell_type": "code",
   "execution_count": 25,
   "id": "organic-appreciation",
   "metadata": {},
   "outputs": [
    {
     "data": {
      "text/plain": [
       "(118039, 85)"
      ]
     },
     "execution_count": 25,
     "metadata": {},
     "output_type": "execute_result"
    }
   ],
   "source": [
    "data_X.shape "
   ]
  },
  {
   "cell_type": "code",
   "execution_count": 26,
   "id": "uniform-parallel",
   "metadata": {},
   "outputs": [],
   "source": [
    "data_new_20features_X = data_X[['Timestamp','Source_Port','Min_Packet_Length','Fwd_Packet_Length_Min',\n",
    "                                'Average_Packet_Size','Fwd_Packet_Length_Mean','Avg_Fwd_Segment_Size','Inbound',\n",
    "                                'Packet_Length_Mean', 'Flow_ID', 'Flow_Bytes/s','Protocol','Max_Packet_Length',\n",
    "                                'Source_IP','Flow_Packets/s','Destination_Port','Fwd_Packets/s',\n",
    "                                'Fwd_Packet_Length_Max','Destination_IP','Subflow_Fwd_Bytes']] "
   ]
  },
  {
   "cell_type": "code",
   "execution_count": 27,
   "id": "invalid-insurance",
   "metadata": {},
   "outputs": [
    {
     "data": {
      "text/html": [
       "<div>\n",
       "<style scoped>\n",
       "    .dataframe tbody tr th:only-of-type {\n",
       "        vertical-align: middle;\n",
       "    }\n",
       "\n",
       "    .dataframe tbody tr th {\n",
       "        vertical-align: top;\n",
       "    }\n",
       "\n",
       "    .dataframe thead th {\n",
       "        text-align: right;\n",
       "    }\n",
       "</style>\n",
       "<table border=\"1\" class=\"dataframe\">\n",
       "  <thead>\n",
       "    <tr style=\"text-align: right;\">\n",
       "      <th></th>\n",
       "      <th>Timestamp</th>\n",
       "      <th>Source_Port</th>\n",
       "      <th>Min_Packet_Length</th>\n",
       "      <th>Fwd_Packet_Length_Min</th>\n",
       "      <th>Average_Packet_Size</th>\n",
       "      <th>Fwd_Packet_Length_Mean</th>\n",
       "      <th>Avg_Fwd_Segment_Size</th>\n",
       "      <th>Inbound</th>\n",
       "      <th>Packet_Length_Mean</th>\n",
       "      <th>Flow_ID</th>\n",
       "      <th>Flow_Bytes/s</th>\n",
       "      <th>Protocol</th>\n",
       "      <th>Max_Packet_Length</th>\n",
       "      <th>Source_IP</th>\n",
       "      <th>Flow_Packets/s</th>\n",
       "      <th>Destination_Port</th>\n",
       "      <th>Fwd_Packets/s</th>\n",
       "      <th>Fwd_Packet_Length_Max</th>\n",
       "      <th>Destination_IP</th>\n",
       "      <th>Subflow_Fwd_Bytes</th>\n",
       "    </tr>\n",
       "  </thead>\n",
       "  <tbody>\n",
       "    <tr>\n",
       "      <th>0</th>\n",
       "      <td>26848</td>\n",
       "      <td>634</td>\n",
       "      <td>440.0</td>\n",
       "      <td>440.0</td>\n",
       "      <td>442.200000</td>\n",
       "      <td>440.000000</td>\n",
       "      <td>440.000000</td>\n",
       "      <td>1</td>\n",
       "      <td>440.00000</td>\n",
       "      <td>41726</td>\n",
       "      <td>1.696353e+06</td>\n",
       "      <td>17</td>\n",
       "      <td>440.0</td>\n",
       "      <td>33</td>\n",
       "      <td>3855.347367</td>\n",
       "      <td>56837</td>\n",
       "      <td>3855.347367</td>\n",
       "      <td>440.0</td>\n",
       "      <td>186</td>\n",
       "      <td>88000</td>\n",
       "    </tr>\n",
       "    <tr>\n",
       "      <th>1</th>\n",
       "      <td>26856</td>\n",
       "      <td>634</td>\n",
       "      <td>440.0</td>\n",
       "      <td>440.0</td>\n",
       "      <td>660.000000</td>\n",
       "      <td>440.000000</td>\n",
       "      <td>440.000000</td>\n",
       "      <td>1</td>\n",
       "      <td>440.00000</td>\n",
       "      <td>41784</td>\n",
       "      <td>2.933333e+08</td>\n",
       "      <td>17</td>\n",
       "      <td>440.0</td>\n",
       "      <td>33</td>\n",
       "      <td>666666.666667</td>\n",
       "      <td>57912</td>\n",
       "      <td>666666.666667</td>\n",
       "      <td>440.0</td>\n",
       "      <td>186</td>\n",
       "      <td>880</td>\n",
       "    </tr>\n",
       "    <tr>\n",
       "      <th>2</th>\n",
       "      <td>27166</td>\n",
       "      <td>634</td>\n",
       "      <td>440.0</td>\n",
       "      <td>440.0</td>\n",
       "      <td>442.200000</td>\n",
       "      <td>440.000000</td>\n",
       "      <td>440.000000</td>\n",
       "      <td>1</td>\n",
       "      <td>440.00000</td>\n",
       "      <td>40060</td>\n",
       "      <td>2.386829e+06</td>\n",
       "      <td>17</td>\n",
       "      <td>440.0</td>\n",
       "      <td>33</td>\n",
       "      <td>5424.611462</td>\n",
       "      <td>2500</td>\n",
       "      <td>5424.611462</td>\n",
       "      <td>440.0</td>\n",
       "      <td>186</td>\n",
       "      <td>88000</td>\n",
       "    </tr>\n",
       "    <tr>\n",
       "      <th>3</th>\n",
       "      <td>27216</td>\n",
       "      <td>634</td>\n",
       "      <td>440.0</td>\n",
       "      <td>440.0</td>\n",
       "      <td>442.200000</td>\n",
       "      <td>440.000000</td>\n",
       "      <td>440.000000</td>\n",
       "      <td>1</td>\n",
       "      <td>440.00000</td>\n",
       "      <td>39353</td>\n",
       "      <td>9.107845e+05</td>\n",
       "      <td>17</td>\n",
       "      <td>440.0</td>\n",
       "      <td>33</td>\n",
       "      <td>2069.964811</td>\n",
       "      <td>12106</td>\n",
       "      <td>2069.964811</td>\n",
       "      <td>440.0</td>\n",
       "      <td>186</td>\n",
       "      <td>88000</td>\n",
       "    </tr>\n",
       "    <tr>\n",
       "      <th>4</th>\n",
       "      <td>27270</td>\n",
       "      <td>634</td>\n",
       "      <td>440.0</td>\n",
       "      <td>440.0</td>\n",
       "      <td>444.888889</td>\n",
       "      <td>440.000000</td>\n",
       "      <td>440.000000</td>\n",
       "      <td>1</td>\n",
       "      <td>440.00000</td>\n",
       "      <td>41533</td>\n",
       "      <td>1.906504e+06</td>\n",
       "      <td>17</td>\n",
       "      <td>440.0</td>\n",
       "      <td>33</td>\n",
       "      <td>4332.964229</td>\n",
       "      <td>52998</td>\n",
       "      <td>4332.964229</td>\n",
       "      <td>440.0</td>\n",
       "      <td>186</td>\n",
       "      <td>39600</td>\n",
       "    </tr>\n",
       "    <tr>\n",
       "      <th>...</th>\n",
       "      <td>...</td>\n",
       "      <td>...</td>\n",
       "      <td>...</td>\n",
       "      <td>...</td>\n",
       "      <td>...</td>\n",
       "      <td>...</td>\n",
       "      <td>...</td>\n",
       "      <td>...</td>\n",
       "      <td>...</td>\n",
       "      <td>...</td>\n",
       "      <td>...</td>\n",
       "      <td>...</td>\n",
       "      <td>...</td>\n",
       "      <td>...</td>\n",
       "      <td>...</td>\n",
       "      <td>...</td>\n",
       "      <td>...</td>\n",
       "      <td>...</td>\n",
       "      <td>...</td>\n",
       "      <td>...</td>\n",
       "    </tr>\n",
       "    <tr>\n",
       "      <th>119995</th>\n",
       "      <td>118013</td>\n",
       "      <td>61630</td>\n",
       "      <td>0.0</td>\n",
       "      <td>0.0</td>\n",
       "      <td>505.838710</td>\n",
       "      <td>352.285714</td>\n",
       "      <td>352.285714</td>\n",
       "      <td>0</td>\n",
       "      <td>490.03125</td>\n",
       "      <td>107311</td>\n",
       "      <td>9.722053e+03</td>\n",
       "      <td>6</td>\n",
       "      <td>2920.0</td>\n",
       "      <td>171</td>\n",
       "      <td>19.219669</td>\n",
       "      <td>443</td>\n",
       "      <td>8.679851</td>\n",
       "      <td>1823.0</td>\n",
       "      <td>212</td>\n",
       "      <td>4932</td>\n",
       "    </tr>\n",
       "    <tr>\n",
       "      <th>119996</th>\n",
       "      <td>118014</td>\n",
       "      <td>443</td>\n",
       "      <td>0.0</td>\n",
       "      <td>31.0</td>\n",
       "      <td>15.500000</td>\n",
       "      <td>31.000000</td>\n",
       "      <td>31.000000</td>\n",
       "      <td>1</td>\n",
       "      <td>12.40000</td>\n",
       "      <td>107311</td>\n",
       "      <td>8.857143e+04</td>\n",
       "      <td>6</td>\n",
       "      <td>31.0</td>\n",
       "      <td>193</td>\n",
       "      <td>11428.571429</td>\n",
       "      <td>61630</td>\n",
       "      <td>2857.142857</td>\n",
       "      <td>31.0</td>\n",
       "      <td>191</td>\n",
       "      <td>31</td>\n",
       "    </tr>\n",
       "    <tr>\n",
       "      <th>119997</th>\n",
       "      <td>118015</td>\n",
       "      <td>61631</td>\n",
       "      <td>0.0</td>\n",
       "      <td>0.0</td>\n",
       "      <td>0.000000</td>\n",
       "      <td>0.000000</td>\n",
       "      <td>0.000000</td>\n",
       "      <td>1</td>\n",
       "      <td>0.00000</td>\n",
       "      <td>100134</td>\n",
       "      <td>0.000000e+00</td>\n",
       "      <td>6</td>\n",
       "      <td>0.0</td>\n",
       "      <td>171</td>\n",
       "      <td>0.665462</td>\n",
       "      <td>22</td>\n",
       "      <td>0.665462</td>\n",
       "      <td>0.0</td>\n",
       "      <td>185</td>\n",
       "      <td>0</td>\n",
       "    </tr>\n",
       "    <tr>\n",
       "      <th>119998</th>\n",
       "      <td>118016</td>\n",
       "      <td>61632</td>\n",
       "      <td>0.0</td>\n",
       "      <td>0.0</td>\n",
       "      <td>0.000000</td>\n",
       "      <td>0.000000</td>\n",
       "      <td>0.000000</td>\n",
       "      <td>0</td>\n",
       "      <td>0.00000</td>\n",
       "      <td>107312</td>\n",
       "      <td>0.000000e+00</td>\n",
       "      <td>6</td>\n",
       "      <td>0.0</td>\n",
       "      <td>171</td>\n",
       "      <td>141.556174</td>\n",
       "      <td>443</td>\n",
       "      <td>47.185391</td>\n",
       "      <td>0.0</td>\n",
       "      <td>212</td>\n",
       "      <td>0</td>\n",
       "    </tr>\n",
       "    <tr>\n",
       "      <th>119999</th>\n",
       "      <td>118017</td>\n",
       "      <td>80</td>\n",
       "      <td>0.0</td>\n",
       "      <td>0.0</td>\n",
       "      <td>0.000000</td>\n",
       "      <td>0.000000</td>\n",
       "      <td>0.000000</td>\n",
       "      <td>1</td>\n",
       "      <td>0.00000</td>\n",
       "      <td>109997</td>\n",
       "      <td>0.000000e+00</td>\n",
       "      <td>6</td>\n",
       "      <td>0.0</td>\n",
       "      <td>404</td>\n",
       "      <td>14925.373134</td>\n",
       "      <td>61633</td>\n",
       "      <td>4975.124378</td>\n",
       "      <td>0.0</td>\n",
       "      <td>191</td>\n",
       "      <td>0</td>\n",
       "    </tr>\n",
       "  </tbody>\n",
       "</table>\n",
       "<p>118039 rows × 20 columns</p>\n",
       "</div>"
      ],
      "text/plain": [
       "        Timestamp  Source_Port  Min_Packet_Length  Fwd_Packet_Length_Min  \\\n",
       "0           26848          634              440.0                  440.0   \n",
       "1           26856          634              440.0                  440.0   \n",
       "2           27166          634              440.0                  440.0   \n",
       "3           27216          634              440.0                  440.0   \n",
       "4           27270          634              440.0                  440.0   \n",
       "...           ...          ...                ...                    ...   \n",
       "119995     118013        61630                0.0                    0.0   \n",
       "119996     118014          443                0.0                   31.0   \n",
       "119997     118015        61631                0.0                    0.0   \n",
       "119998     118016        61632                0.0                    0.0   \n",
       "119999     118017           80                0.0                    0.0   \n",
       "\n",
       "        Average_Packet_Size  Fwd_Packet_Length_Mean  Avg_Fwd_Segment_Size  \\\n",
       "0                442.200000              440.000000            440.000000   \n",
       "1                660.000000              440.000000            440.000000   \n",
       "2                442.200000              440.000000            440.000000   \n",
       "3                442.200000              440.000000            440.000000   \n",
       "4                444.888889              440.000000            440.000000   \n",
       "...                     ...                     ...                   ...   \n",
       "119995           505.838710              352.285714            352.285714   \n",
       "119996            15.500000               31.000000             31.000000   \n",
       "119997             0.000000                0.000000              0.000000   \n",
       "119998             0.000000                0.000000              0.000000   \n",
       "119999             0.000000                0.000000              0.000000   \n",
       "\n",
       "        Inbound  Packet_Length_Mean  Flow_ID  Flow_Bytes/s  Protocol  \\\n",
       "0             1           440.00000    41726  1.696353e+06        17   \n",
       "1             1           440.00000    41784  2.933333e+08        17   \n",
       "2             1           440.00000    40060  2.386829e+06        17   \n",
       "3             1           440.00000    39353  9.107845e+05        17   \n",
       "4             1           440.00000    41533  1.906504e+06        17   \n",
       "...         ...                 ...      ...           ...       ...   \n",
       "119995        0           490.03125   107311  9.722053e+03         6   \n",
       "119996        1            12.40000   107311  8.857143e+04         6   \n",
       "119997        1             0.00000   100134  0.000000e+00         6   \n",
       "119998        0             0.00000   107312  0.000000e+00         6   \n",
       "119999        1             0.00000   109997  0.000000e+00         6   \n",
       "\n",
       "        Max_Packet_Length  Source_IP  Flow_Packets/s  Destination_Port  \\\n",
       "0                   440.0         33     3855.347367             56837   \n",
       "1                   440.0         33   666666.666667             57912   \n",
       "2                   440.0         33     5424.611462              2500   \n",
       "3                   440.0         33     2069.964811             12106   \n",
       "4                   440.0         33     4332.964229             52998   \n",
       "...                   ...        ...             ...               ...   \n",
       "119995             2920.0        171       19.219669               443   \n",
       "119996               31.0        193    11428.571429             61630   \n",
       "119997                0.0        171        0.665462                22   \n",
       "119998                0.0        171      141.556174               443   \n",
       "119999                0.0        404    14925.373134             61633   \n",
       "\n",
       "        Fwd_Packets/s  Fwd_Packet_Length_Max  Destination_IP  \\\n",
       "0         3855.347367                  440.0             186   \n",
       "1       666666.666667                  440.0             186   \n",
       "2         5424.611462                  440.0             186   \n",
       "3         2069.964811                  440.0             186   \n",
       "4         4332.964229                  440.0             186   \n",
       "...               ...                    ...             ...   \n",
       "119995       8.679851                 1823.0             212   \n",
       "119996    2857.142857                   31.0             191   \n",
       "119997       0.665462                    0.0             185   \n",
       "119998      47.185391                    0.0             212   \n",
       "119999    4975.124378                    0.0             191   \n",
       "\n",
       "        Subflow_Fwd_Bytes  \n",
       "0                   88000  \n",
       "1                     880  \n",
       "2                   88000  \n",
       "3                   88000  \n",
       "4                   39600  \n",
       "...                   ...  \n",
       "119995               4932  \n",
       "119996                 31  \n",
       "119997                  0  \n",
       "119998                  0  \n",
       "119999                  0  \n",
       "\n",
       "[118039 rows x 20 columns]"
      ]
     },
     "execution_count": 27,
     "metadata": {},
     "output_type": "execute_result"
    }
   ],
   "source": [
    "data_new_20features_X"
   ]
  },
  {
   "cell_type": "code",
   "execution_count": 28,
   "id": "retained-willow",
   "metadata": {},
   "outputs": [
    {
     "data": {
      "text/plain": [
       "(35412, 85)"
      ]
     },
     "execution_count": 28,
     "metadata": {},
     "output_type": "execute_result"
    }
   ],
   "source": [
    "from sklearn.model_selection import train_test_split\n",
    "X_train, X_test, y_train, y_test = train_test_split(data_X, data_y_trans, test_size = 0.30, random_state = 42)\n",
    "X_test.shape "
   ]
  },
  {
   "cell_type": "code",
   "execution_count": 29,
   "id": "vanilla-tracy",
   "metadata": {},
   "outputs": [],
   "source": [
    "from sklearn.preprocessing import StandardScaler \n",
    "ss = StandardScaler()\n",
    "X_train_std = ss.fit_transform(X_train)\n",
    "X_test_std = ss.fit_transform(X_test)"
   ]
  },
  {
   "cell_type": "code",
   "execution_count": 30,
   "id": "printable-purple",
   "metadata": {},
   "outputs": [],
   "source": [
    "from sklearn.model_selection import train_test_split\n",
    "X_train_fs, X_test_fs, y_train_fs, y_test_fs = train_test_split(data_new_20features_X, data_y_trans, test_size = 0.30, random_state = 42)"
   ]
  },
  {
   "cell_type": "code",
   "execution_count": 31,
   "id": "ultimate-marker",
   "metadata": {},
   "outputs": [
    {
     "data": {
      "text/plain": [
       "(82627, 20)"
      ]
     },
     "execution_count": 31,
     "metadata": {},
     "output_type": "execute_result"
    }
   ],
   "source": [
    "from sklearn.preprocessing import StandardScaler \n",
    "ss_fs = StandardScaler()\n",
    "X_train_std_fs = ss_fs.fit_transform(X_train_fs)\n",
    "X_test_std_fs = ss_fs.fit_transform(X_test_fs)\n",
    "X_train_std_fs.shape "
   ]
  },
  {
   "cell_type": "code",
   "execution_count": null,
   "id": "wooden-irish",
   "metadata": {},
   "outputs": [],
   "source": []
  },
  {
   "cell_type": "markdown",
   "id": "determined-needle",
   "metadata": {},
   "source": [
    "                                IMPORT LIBRARIES"
   ]
  },
  {
   "cell_type": "code",
   "execution_count": 62,
   "id": "informal-premium",
   "metadata": {},
   "outputs": [],
   "source": [
    "from __future__ import print_function\n",
    "np.random.seed(1337)  # for reproducibility\n",
    "\n",
    "# import tensorflow as tf\n",
    "# from tensorflow import keras\n",
    "from keras.preprocessing import sequence\n",
    "from keras.utils import np_utils\n",
    "from keras.models import Sequential\n",
    "from keras.layers import Dense, Dropout, Activation, Embedding, Lambda, Flatten, Bidirectional\n",
    "from keras.layers import LSTM, SimpleRNN, GRU\n",
    "from keras.layers import Convolution1D, Conv2D, Dense, Dropout, MaxPooling1D, MaxPool2D, LSTM\n",
    "from keras.utils.np_utils import to_categorical\n",
    "from keras.layers import TimeDistributed\n",
    "from sklearn.metrics import (precision_score, recall_score,f1_score, accuracy_score,mean_squared_error,mean_absolute_error)\n",
    "from sklearn import metrics\n",
    "from sklearn.preprocessing import Normalizer\n",
    "import h5py\n",
    "from keras import callbacks\n",
    "from keras.callbacks import ModelCheckpoint, EarlyStopping, ReduceLROnPlateau, CSVLogger"
   ]
  },
  {
   "cell_type": "markdown",
   "id": "enhanced-comfort",
   "metadata": {},
   "source": [
    "                                LSTM"
   ]
  },
  {
   "cell_type": "code",
   "execution_count": 49,
   "id": "headed-preference",
   "metadata": {},
   "outputs": [],
   "source": [
    "y_train_lstm = np.array(y_train)\n",
    "y_test_lstm = np.array(y_test)\n",
    "\n",
    "y_train_onehot_lstm = to_categorical(y_train_lstm)\n",
    "y_test_one_hot_lstm = to_categorical(y_test_lstm)\n",
    "\n",
    "X_train_lstm = np.array(X_train_std)\n",
    "X_test_lstm = np.array(X_test_std) \n",
    "\n",
    "# Reshape \n",
    "X_train_lstm_reshape = np.reshape(X_train_std, (X_train_lstm.shape[0], 1,  X_train_lstm.shape[1]))\n",
    "X_test_lstm_reshape = np.reshape(X_test_std, (X_test_lstm.shape[0], 1, X_test_lstm.shape[1]))\n",
    "\n",
    "\n",
    "# For feature selection\n",
    "y_train_lstm_fs = np.array(y_train_fs)\n",
    "y_test_lstm_fs = np.array(y_test_fs)\n",
    "\n",
    "y_train_onehot_lstm_fs = to_categorical(y_train_lstm_fs)\n",
    "y_test_one_hot_lstm_fs = to_categorical(y_test_lstm_fs)\n",
    "\n",
    "X_train_lstm_fs = np.array(X_train_std_fs)\n",
    "X_test_lstm_fs = np.array(X_test_std_fs) \n",
    "\n",
    "# Reshape \n",
    "X_train_lstm_reshape_fs = np.reshape(X_train_std_fs, (X_train_lstm_fs.shape[0], 1,  X_train_lstm_fs.shape[1]))\n",
    "X_test_lstm_reshape_fs = np.reshape(X_test_std_fs, (X_test_lstm_fs.shape[0], 1, X_test_lstm_fs.shape[1]))\n",
    "\n"
   ]
  },
  {
   "cell_type": "code",
   "execution_count": 318,
   "id": "pursuant-diamond",
   "metadata": {},
   "outputs": [],
   "source": [
    " batch_size = 100\n",
    "\n",
    "# Initialize the network\n",
    "model_LSTM = Sequential()\n",
    "model_LSTM.add(LSTM(8,input_dim=85, return_sequences=True)) \n",
    "# model_LSTM.add(LSTM(8,input_dim=20, return_sequences=True)) \n",
    "model_LSTM.add(Dropout(0.1))\n",
    "model_LSTM.add(LSTM(8,input_dim=85, return_sequences=False))\n",
    "# model_LSTM.add(LSTM(8,input_dim=20, return_sequences=False))\n",
    "model_LSTM.add(Dropout(0.1))\n",
    "model_LSTM.add(Dense(6))\n",
    "model_LSTM.add(Activation('softmax'))"
   ]
  },
  {
   "cell_type": "code",
   "execution_count": 319,
   "id": "sophisticated-westminster",
   "metadata": {},
   "outputs": [
    {
     "name": "stdout",
     "output_type": "stream",
     "text": [
      "Model: \"sequential_44\"\n",
      "_________________________________________________________________\n",
      "Layer (type)                 Output Shape              Param #   \n",
      "=================================================================\n",
      "lstm_43 (LSTM)               (None, None, 8)           3008      \n",
      "_________________________________________________________________\n",
      "dropout_77 (Dropout)         (None, None, 8)           0         \n",
      "_________________________________________________________________\n",
      "lstm_44 (LSTM)               (None, 8)                 544       \n",
      "_________________________________________________________________\n",
      "dropout_78 (Dropout)         (None, 8)                 0         \n",
      "_________________________________________________________________\n",
      "dense_60 (Dense)             (None, 6)                 54        \n",
      "_________________________________________________________________\n",
      "activation_23 (Activation)   (None, 6)                 0         \n",
      "=================================================================\n",
      "Total params: 3,606\n",
      "Trainable params: 3,606\n",
      "Non-trainable params: 0\n",
      "_________________________________________________________________\n"
     ]
    }
   ],
   "source": [
    "model_LSTM.summary()"
   ]
  },
  {
   "cell_type": "code",
   "execution_count": 320,
   "id": "legislative-nickel",
   "metadata": {},
   "outputs": [],
   "source": [
    "monitor = EarlyStopping(monitor='val_loss', min_delta=1e-3, patience=5, verbose=1, mode='auto',\n",
    "      restore_best_weights=True)"
   ]
  },
  {
   "cell_type": "code",
   "execution_count": 321,
   "id": "pacific-piece",
   "metadata": {},
   "outputs": [
    {
     "name": "stdout",
     "output_type": "stream",
     "text": [
      "Epoch 1/50\n",
      "827/827 [==============================] - 5s 4ms/step - loss: 1.3323 - accuracy: 0.5646 - val_loss: 0.6437 - val_accuracy: 0.6670\n",
      "Epoch 2/50\n",
      "827/827 [==============================] - 2s 3ms/step - loss: 0.6372 - accuracy: 0.6664 - val_loss: 0.5676 - val_accuracy: 0.6681\n",
      "Epoch 3/50\n",
      "827/827 [==============================] - 3s 3ms/step - loss: 0.5593 - accuracy: 0.7236 - val_loss: 0.2881 - val_accuracy: 0.9413\n",
      "Epoch 4/50\n",
      "827/827 [==============================] - 2s 3ms/step - loss: 0.2738 - accuracy: 0.9172 - val_loss: 0.1146 - val_accuracy: 0.9877\n",
      "Epoch 5/50\n",
      "827/827 [==============================] - 2s 3ms/step - loss: 0.1682 - accuracy: 0.9458 - val_loss: 0.0724 - val_accuracy: 0.9907\n",
      "Epoch 6/50\n",
      "827/827 [==============================] - 2s 3ms/step - loss: 0.1322 - accuracy: 0.9579 - val_loss: 0.0530 - val_accuracy: 0.9939\n",
      "Epoch 7/50\n",
      "827/827 [==============================] - 2s 2ms/step - loss: 0.1168 - accuracy: 0.9583 - val_loss: 0.0398 - val_accuracy: 0.9943\n",
      "Epoch 8/50\n",
      "827/827 [==============================] - 2s 2ms/step - loss: 0.0921 - accuracy: 0.9703 - val_loss: 0.0311 - val_accuracy: 0.9934\n",
      "Epoch 9/50\n",
      "827/827 [==============================] - 2s 3ms/step - loss: 0.0763 - accuracy: 0.9753 - val_loss: 0.0296 - val_accuracy: 0.9901\n",
      "Epoch 10/50\n",
      "827/827 [==============================] - 2s 3ms/step - loss: 0.0618 - accuracy: 0.9814 - val_loss: 0.0258 - val_accuracy: 0.9910\n",
      "Epoch 11/50\n",
      "827/827 [==============================] - 2s 2ms/step - loss: 0.0553 - accuracy: 0.9838 - val_loss: 0.0274 - val_accuracy: 0.9893\n",
      "Epoch 12/50\n",
      "827/827 [==============================] - 2s 2ms/step - loss: 0.0497 - accuracy: 0.9857 - val_loss: 0.0190 - val_accuracy: 0.9938\n",
      "Epoch 13/50\n",
      "827/827 [==============================] - 2s 2ms/step - loss: 0.0440 - accuracy: 0.9876 - val_loss: 0.0219 - val_accuracy: 0.9920\n",
      "Epoch 14/50\n",
      "827/827 [==============================] - 2s 2ms/step - loss: 0.0432 - accuracy: 0.9876 - val_loss: 0.0285 - val_accuracy: 0.9894\n",
      "Epoch 15/50\n",
      "827/827 [==============================] - 2s 2ms/step - loss: 0.0419 - accuracy: 0.9880 - val_loss: 0.0227 - val_accuracy: 0.9915\n",
      "Epoch 16/50\n",
      "827/827 [==============================] - 2s 3ms/step - loss: 0.0395 - accuracy: 0.9881 - val_loss: 0.0240 - val_accuracy: 0.9909\n",
      "Epoch 17/50\n",
      "827/827 [==============================] - 2s 3ms/step - loss: 0.0400 - accuracy: 0.9885 - val_loss: 0.0284 - val_accuracy: 0.9900\n",
      "Restoring model weights from the end of the best epoch.\n",
      "Epoch 00017: early stopping\n"
     ]
    },
    {
     "data": {
      "text/plain": [
       "<keras.callbacks.History at 0x7f4aba8666a0>"
      ]
     },
     "execution_count": 321,
     "metadata": {},
     "output_type": "execute_result"
    }
   ],
   "source": [
    "model_LSTM.compile(loss='categorical_crossentropy',optimizer='adam',metrics=['accuracy'])\n",
    "model_LSTM.fit(X_train_lstm_reshape, y_train_onehot_lstm, validation_data=(X_test_lstm_reshape, y_test_one_hot_lstm),batch_size=batch_size, epochs=50,callbacks=[monitor])\n",
    "\n",
    "# For feature selection\n",
    "# model_LSTM.compile(loss='categorical_crossentropy',optimizer='adam',metrics=['accuracy'])\n",
    "# model_LSTM.fit(X_train_lstm_reshape_fs, y_train_onehot_lstm_fs, validation_data=(X_test_lstm_reshape_fs, y_test_one_hot_lstm_fs),batch_size=batch_size, epochs=50,callbacks=[monitor])"
   ]
  },
  {
   "cell_type": "code",
   "execution_count": 322,
   "id": "bigger-white",
   "metadata": {},
   "outputs": [
    {
     "name": "stderr",
     "output_type": "stream",
     "text": [
      "/home/bbm/.local/lib/python3.8/site-packages/keras/engine/sequential.py:450: UserWarning: `model.predict_classes()` is deprecated and will be removed after 2021-01-01. Please use instead:* `np.argmax(model.predict(x), axis=-1)`,   if your model does multi-class classification   (e.g. if it uses a `softmax` last-layer activation).* `(model.predict(x) > 0.5).astype(\"int32\")`,   if your model does binary classification   (e.g. if it uses a `sigmoid` last-layer activation).\n",
      "  warnings.warn('`model.predict_classes()` is deprecated and '\n"
     ]
    }
   ],
   "source": [
    "y_perd_lstm = model_LSTM.predict_classes(X_test_lstm_reshape, verbose=0)\n",
    "# y_perd_lstm_fs = model_LSTM.predict_classes(X_test_lstm_reshape_fs, verbose=0)"
   ]
  },
  {
   "cell_type": "code",
   "execution_count": 33,
   "id": "reliable-flavor",
   "metadata": {},
   "outputs": [],
   "source": [
    "from sklearn.metrics import accuracy_score \n",
    "from sklearn.metrics import classification_report \n",
    "from sklearn.metrics import confusion_matrix "
   ]
  },
  {
   "cell_type": "code",
   "execution_count": 314,
   "id": "changed-moses",
   "metadata": {},
   "outputs": [
    {
     "name": "stdout",
     "output_type": "stream",
     "text": [
      "Classification Report for LSTM: \n",
      "               precision    recall  f1-score   support\n",
      "\n",
      "      BENIGN       1.00      1.00      1.00      5903\n",
      "   DrDoS_DNS       0.96      0.94      0.95      5799\n",
      "  DrDoS_LDAP       0.94      0.86      0.90      5939\n",
      "   DrDoS_NTP       0.96      1.00      0.98      5988\n",
      "  DrDoS_SNMP       0.90      0.95      0.93      6061\n",
      "        TFTP       1.00      1.00      1.00      5722\n",
      "\n",
      "    accuracy                           0.96     35412\n",
      "   macro avg       0.96      0.96      0.96     35412\n",
      "weighted avg       0.96      0.96      0.96     35412\n",
      "\n"
     ]
    }
   ],
   "source": [
    "# print(\"Classification Report for LSTM: \\n\", classification_report(le.inverse_transform(y_test_lstm), le.inverse_transform(y_perd_lstm)))\n",
    "print(\"Classification Report for LSTM: \\n\", classification_report(le.inverse_transform(y_test_lstm_fs), le.inverse_transform(y_perd_lstm_fs)))"
   ]
  },
  {
   "cell_type": "code",
   "execution_count": 234,
   "id": "southern-canyon",
   "metadata": {},
   "outputs": [
    {
     "name": "stdout",
     "output_type": "stream",
     "text": [
      "LSTM Confusion: \n",
      " [[5898    0    0    1    1    3]\n",
      " [   0 5723   27   49    0    0]\n",
      " [   0    2 5866    0   71    0]\n",
      " [   9    3    0 5976    0    0]\n",
      " [   1    0    0    0 6058    2]\n",
      " [   2    0    0    0    0 5720]]\n"
     ]
    }
   ],
   "source": [
    "lstm_conf_mat = confusion_matrix(y_test_lstm, y_perd_lstm)\n",
    "# lstm_conf_mat = confusion_matrix(y_test_lstm_fs, y_perd_lstm_fs)\n",
    "print(\"LSTM Confusion: \\n\", lstm_conf_mat)"
   ]
  },
  {
   "cell_type": "code",
   "execution_count": 323,
   "id": "impressed-captain",
   "metadata": {},
   "outputs": [
    {
     "name": "stdout",
     "output_type": "stream",
     "text": [
      "Accuracy Score for LSTM: \n",
      " 99.37874166949057\n"
     ]
    }
   ],
   "source": [
    "acc_score_lstm = accuracy_score(y_test_lstm, y_perd_lstm)\n",
    "# acc_score_lstm = accuracy_score(y_test_lstm_fs, y_perd_lstm_fs)\n",
    "print(\"Accuracy Score for LSTM: \\n\", acc_score_lstm*100)"
   ]
  },
  {
   "cell_type": "markdown",
   "id": "infectious-reason",
   "metadata": {},
   "source": [
    "                                BiLSTM"
   ]
  },
  {
   "cell_type": "code",
   "execution_count": 253,
   "id": "existing-bible",
   "metadata": {},
   "outputs": [],
   "source": [
    "y_train_bilstm = np.array(y_train)\n",
    "y_test_bilstm = np.array(y_test)\n",
    "\n",
    "y_train_onehot_bilstm = to_categorical(y_train_bilstm)\n",
    "y_test_one_hot_bilstm = to_categorical(y_test_bilstm)\n",
    "\n",
    "X_train_bilstm = np.array(X_train_std)\n",
    "X_test_bilstm = np.array(X_test_std) \n",
    "\n",
    "# Reshape \n",
    "X_train_bilstm_reshape = np.reshape(X_train_std, (X_train_bilstm.shape[0], 1,  X_train_bilstm.shape[1]))\n",
    "X_test_bilstm_reshape = np.reshape(X_test_std, (X_test_bilstm.shape[0], 1, X_test_bilstm.shape[1]))\n",
    "\n",
    "\n",
    "# For feature selection\n",
    "y_train_bilstm_fs = np.array(y_train_fs)\n",
    "y_test_bilstm_fs = np.array(y_test_fs)\n",
    "\n",
    "y_train_onehot_bilstm_fs = to_categorical(y_train_bilstm_fs)\n",
    "y_test_one_hot_bilstm_fs = to_categorical(y_test_bilstm_fs)\n",
    "\n",
    "X_train_bilstm_fs = np.array(X_train_std_fs)\n",
    "X_test_bilstm_fs = np.array(X_test_std_fs) \n",
    "\n",
    "# Reshape \n",
    "X_train_bilstm_reshape_fs = np.reshape(X_train_std_fs, (X_train_bilstm_fs.shape[0], 1,  X_train_lstm_fs.shape[1]))\n",
    "X_test_bilstm_reshape_fs = np.reshape(X_test_std_fs, (X_test_bilstm_fs.shape[0], 1, X_test_bilstm_fs.shape[1]))\n",
    "\n"
   ]
  },
  {
   "cell_type": "code",
   "execution_count": 269,
   "id": "jewish-poetry",
   "metadata": {},
   "outputs": [],
   "source": [
    "np.random.seed(337)  \n",
    "batch_size = 1000\n",
    "\n",
    "model_BiLSTM = Sequential()\n",
    "model_BiLSTM.add(Bidirectional(LSTM(8,input_dim=85, return_sequences=True))) \n",
    "# model_BiLSTM.add(Bidirectional(LSTM(8,input_dim=20, return_sequences=True))) \n",
    "model_BiLSTM.add(Dropout(0.1))\n",
    "model_BiLSTM.add(Bidirectional(LSTM(8,input_dim=85, return_sequences=False)))\n",
    "# model_BiLSTM.add(Bidirectional(LSTM(8,input_dim=20, return_sequences=False)))\n",
    "model_BiLSTM.add(Dropout(0.1))\n",
    "model_BiLSTM.add(Dense(6))\n",
    "model_BiLSTM.add(Activation('softmax'))"
   ]
  },
  {
   "cell_type": "code",
   "execution_count": 317,
   "id": "difficult-costume",
   "metadata": {},
   "outputs": [
    {
     "name": "stdout",
     "output_type": "stream",
     "text": [
      "Model: \"sequential_39\"\n",
      "_________________________________________________________________\n",
      "Layer (type)                 Output Shape              Param #   \n",
      "=================================================================\n",
      "bidirectional_23 (Bidirectio (None, 1, 16)             6016      \n",
      "_________________________________________________________________\n",
      "dropout_70 (Dropout)         (None, 1, 16)             0         \n",
      "_________________________________________________________________\n",
      "bidirectional_24 (Bidirectio (None, 16)                1600      \n",
      "_________________________________________________________________\n",
      "dropout_71 (Dropout)         (None, 16)                0         \n",
      "_________________________________________________________________\n",
      "dense_55 (Dense)             (None, 6)                 102       \n",
      "_________________________________________________________________\n",
      "activation_21 (Activation)   (None, 6)                 0         \n",
      "=================================================================\n",
      "Total params: 7,718\n",
      "Trainable params: 7,718\n",
      "Non-trainable params: 0\n",
      "_________________________________________________________________\n"
     ]
    }
   ],
   "source": [
    "model_BiLSTM.summary()"
   ]
  },
  {
   "cell_type": "code",
   "execution_count": 270,
   "id": "excited-calculator",
   "metadata": {},
   "outputs": [],
   "source": [
    "monitor = EarlyStopping(monitor='val_loss', min_delta=1e-3, patience=5, verbose=1, mode='auto',\n",
    "      restore_best_weights=True)"
   ]
  },
  {
   "cell_type": "code",
   "execution_count": 274,
   "id": "random-norman",
   "metadata": {},
   "outputs": [
    {
     "name": "stdout",
     "output_type": "stream",
     "text": [
      "Epoch 1/50\n",
      "83/83 [==============================] - 8s 28ms/step - loss: 0.0214 - accuracy: 0.9938 - val_loss: 0.0148 - val_accuracy: 0.9956\n",
      "Epoch 2/50\n",
      "83/83 [==============================] - 1s 6ms/step - loss: 0.0207 - accuracy: 0.9943 - val_loss: 0.0115 - val_accuracy: 0.9972\n",
      "Epoch 3/50\n",
      "83/83 [==============================] - 1s 6ms/step - loss: 0.0199 - accuracy: 0.9948 - val_loss: 0.0127 - val_accuracy: 0.9966\n",
      "Epoch 4/50\n",
      "83/83 [==============================] - 1s 7ms/step - loss: 0.0186 - accuracy: 0.9947 - val_loss: 0.0136 - val_accuracy: 0.9953\n",
      "Epoch 5/50\n",
      "83/83 [==============================] - 1s 7ms/step - loss: 0.0188 - accuracy: 0.9944 - val_loss: 0.0107 - val_accuracy: 0.9975\n",
      "Epoch 6/50\n",
      "83/83 [==============================] - 1s 7ms/step - loss: 0.0181 - accuracy: 0.9946 - val_loss: 0.0114 - val_accuracy: 0.9971\n",
      "Epoch 7/50\n",
      "83/83 [==============================] - 1s 7ms/step - loss: 0.0160 - accuracy: 0.9958 - val_loss: 0.0122 - val_accuracy: 0.9966\n",
      "Restoring model weights from the end of the best epoch.\n",
      "Epoch 00007: early stopping\n"
     ]
    },
    {
     "data": {
      "text/plain": [
       "<keras.callbacks.History at 0x7f4ac93f7be0>"
      ]
     },
     "execution_count": 274,
     "metadata": {},
     "output_type": "execute_result"
    }
   ],
   "source": [
    "model_BiLSTM.compile(loss='categorical_crossentropy',optimizer='adam',metrics=['accuracy'])\n",
    "model_BiLSTM.fit(X_train_bilstm_reshape, y_train_onehot_bilstm, validation_data=(X_test_bilstm_reshape, y_test_one_hot_bilstm),batch_size=batch_size, epochs=50,callbacks=[monitor])\n",
    "\n",
    "# For feature selection\n",
    "# model_BiLSTM.compile(loss='categorical_crossentropy',optimizer='adam',metrics=['accuracy'])\n",
    "# model_BiLSTM.fit(X_train_bilstm_reshape_fs, y_train_onehot_bilstm_fs, validation_data=(X_test_bilstm_reshape_fs, y_test_one_hot_bilstm_fs),batch_size=batch_size, epochs=50,callbacks=[monitor])"
   ]
  },
  {
   "cell_type": "code",
   "execution_count": 275,
   "id": "pursuant-corrections",
   "metadata": {},
   "outputs": [
    {
     "name": "stderr",
     "output_type": "stream",
     "text": [
      "/home/bbm/.local/lib/python3.8/site-packages/keras/engine/sequential.py:450: UserWarning: `model.predict_classes()` is deprecated and will be removed after 2021-01-01. Please use instead:* `np.argmax(model.predict(x), axis=-1)`,   if your model does multi-class classification   (e.g. if it uses a `softmax` last-layer activation).* `(model.predict(x) > 0.5).astype(\"int32\")`,   if your model does binary classification   (e.g. if it uses a `sigmoid` last-layer activation).\n",
      "  warnings.warn('`model.predict_classes()` is deprecated and '\n"
     ]
    }
   ],
   "source": [
    "y_perd_bilstm = model_BiLSTM.predict_classes(X_test_bilstm_reshape, verbose=0)\n",
    "# y_perd_bilstm_fs = model_BiLSTM.predict_classes(X_test_bilstm_reshape_fs, verbose=0)"
   ]
  },
  {
   "cell_type": "code",
   "execution_count": 75,
   "id": "developmental-customs",
   "metadata": {},
   "outputs": [
    {
     "name": "stdout",
     "output_type": "stream",
     "text": [
      "Classification Report for BiLSTM: \n",
      "               precision    recall  f1-score   support\n",
      "\n",
      "      BENIGN       1.00      1.00      1.00      5903\n",
      "   DrDoS_DNS       1.00      0.98      0.99      5799\n",
      "  DrDoS_LDAP       1.00      0.99      1.00      5939\n",
      "   DrDoS_NTP       0.98      1.00      0.99      5988\n",
      "  DrDoS_SNMP       0.99      1.00      1.00      6061\n",
      "        TFTP       1.00      1.00      1.00      5722\n",
      "\n",
      "    accuracy                           1.00     35412\n",
      "   macro avg       1.00      1.00      1.00     35412\n",
      "weighted avg       1.00      1.00      1.00     35412\n",
      "\n"
     ]
    }
   ],
   "source": [
    "print(\"Classification Report for BiLSTM: \\n\", classification_report(le.inverse_transform(y_test_bilstm), le.inverse_transform(y_perd_bilstm)))\n",
    "# print(\"Classification Report for BiLSTM: \\n\", classification_report(le.inverse_transform(y_test_bilstm_fs), le.inverse_transform(y_perd_bilstm_fs)))"
   ]
  },
  {
   "cell_type": "code",
   "execution_count": 76,
   "id": "straight-packet",
   "metadata": {},
   "outputs": [
    {
     "name": "stdout",
     "output_type": "stream",
     "text": [
      "LSTM Confusion: \n",
      " [[5893    1    1    2    0    6]\n",
      " [   0 5706    1   92    0    0]\n",
      " [   0    5 5897    0   36    1]\n",
      " [   0    2    0 5986    0    0]\n",
      " [   0    1    0    0 6057    3]\n",
      " [   2    2    0    0    0 5718]]\n"
     ]
    }
   ],
   "source": [
    "lstm_conf_mat = confusion_matrix(y_test_bilstm, y_perd_bilstm)\n",
    "# lstm_conf_mat = confusion_matrix(y_test_bilstm_fs, y_perd_bilstm_fs)\n",
    "print(\"BiLSTM Confusion: \\n\", lstm_conf_mat)"
   ]
  },
  {
   "cell_type": "code",
   "execution_count": 276,
   "id": "mathematical-technician",
   "metadata": {},
   "outputs": [
    {
     "name": "stdout",
     "output_type": "stream",
     "text": [
      "Accuracy Score for BiLSTM: \n",
      " 99.71760984976844\n"
     ]
    }
   ],
   "source": [
    "acc_score_lstm = accuracy_score(y_test_bilstm, y_perd_bilstm)\n",
    "# acc_score_lstm = accuracy_score(y_test_bilstm_fs, y_perd_bilstm_fs)\n",
    "print(\"Accuracy Score for BiLSTM: \\n\", acc_score_lstm*100)"
   ]
  },
  {
   "cell_type": "markdown",
   "id": "forty-track",
   "metadata": {},
   "source": [
    "                                CNN"
   ]
  },
  {
   "cell_type": "code",
   "execution_count": 47,
   "id": "internal-newspaper",
   "metadata": {},
   "outputs": [],
   "source": [
    "y_train_cnn = np.array(y_train)\n",
    "y_test_cnn = np.array(y_test)\n",
    "\n",
    "y_train_onehot_cnn = to_categorical(y_train_cnn)\n",
    "y_test_one_hot_cnn = to_categorical(y_test_cnn)\n",
    "\n",
    "X_train_cnn = np.array(X_train_std)\n",
    "X_test_cnn = np.array(X_test_std) \n",
    "\n",
    "# Reshape \n",
    "X_train_cnn_reshape = np.reshape(X_train_std, (X_train_cnn.shape[0], X_train_cnn.shape[1], 1))\n",
    "X_test_cnn_reshape = np.reshape(X_test_std, (X_test_cnn.shape[0], X_test_cnn.shape[1], 1))\n",
    "\n",
    "\n",
    "# For feature selection\n",
    "y_train_cnn_fs = np.array(y_train_fs)\n",
    "y_test_cnn_fs = np.array(y_test_fs)\n",
    "\n",
    "y_train_onehot_cnn_fs = to_categorical(y_train_cnn_fs)\n",
    "y_test_one_hot_cnn_fs = to_categorical(y_test_cnn_fs)\n",
    "\n",
    "X_train_cnn_fs = np.array(X_train_std_fs)\n",
    "X_test_cnn_fs = np.array(X_test_std_fs) \n",
    "\n",
    "# Reshape \n",
    "X_train_cnn_reshape_fs = np.reshape(X_train_std_fs, (X_train_cnn_fs.shape[0], X_train_cnn_fs.shape[1], 1))\n",
    "X_test_cnn_reshape_fs = np.reshape(X_test_std_fs, (X_test_cnn_fs.shape[0], X_test_cnn_fs.shape[1], 1))"
   ]
  },
  {
   "cell_type": "code",
   "execution_count": 278,
   "id": "stuffed-mercy",
   "metadata": {},
   "outputs": [
    {
     "name": "stderr",
     "output_type": "stream",
     "text": [
      "/home/bbm/.local/lib/python3.8/site-packages/tensorflow/python/keras/optimizer_v2/optimizer_v2.py:374: UserWarning: The `lr` argument is deprecated, use `learning_rate` instead.\n",
      "  warnings.warn(\n"
     ]
    }
   ],
   "source": [
    "from keras import optimizers\n",
    "sgd = optimizers.SGD(lr=0.009, decay=1e-6, momentum=0.9, nesterov=True)"
   ]
  },
  {
   "cell_type": "code",
   "execution_count": 70,
   "id": "fatal-reset",
   "metadata": {},
   "outputs": [],
   "source": [
    "np.random.seed(0)  \n",
    "# batch_size = 1000\n",
    "model_CNN = Sequential()\n",
    "model_CNN.add(Convolution1D(128, 3, activation=\"relu\", input_shape=(85,1)))\n",
    "# model_CNN.add(Convolution1D(128, 3, activation=\"relu\", input_shape=(20,1)))\n",
    "model_CNN.add(Convolution1D(64, 3, activation=\"relu\"))\n",
    "model_CNN.add(MaxPooling1D(pool_size=2))\n",
    "model_CNN.add(Dropout(rate=0.1))\n",
    "model_CNN.add(Flatten())\n",
    "model_CNN.add(Dense(6))\n",
    "monitor = EarlyStopping(monitor='val_loss', min_delta=1e-3, patience=5, verbose=1, mode='auto',\n",
    "      restore_best_weights=True)"
   ]
  },
  {
   "cell_type": "code",
   "execution_count": 71,
   "id": "adolescent-degree",
   "metadata": {},
   "outputs": [],
   "source": [
    "monitor = EarlyStopping(monitor='val_loss', min_delta=1e-3, patience=5, verbose=1, mode='auto',\n",
    "      restore_best_weights=True)"
   ]
  },
  {
   "cell_type": "code",
   "execution_count": 72,
   "id": "secret-campbell",
   "metadata": {},
   "outputs": [
    {
     "name": "stdout",
     "output_type": "stream",
     "text": [
      "Model: \"sequential_9\"\n",
      "_________________________________________________________________\n",
      "Layer (type)                 Output Shape              Param #   \n",
      "=================================================================\n",
      "conv1d_8 (Conv1D)            (None, 83, 128)           512       \n",
      "_________________________________________________________________\n",
      "conv1d_9 (Conv1D)            (None, 81, 64)            24640     \n",
      "_________________________________________________________________\n",
      "max_pooling1d_5 (MaxPooling1 (None, 40, 64)            0         \n",
      "_________________________________________________________________\n",
      "dropout_10 (Dropout)         (None, 40, 64)            0         \n",
      "_________________________________________________________________\n",
      "flatten_4 (Flatten)          (None, 2560)              0         \n",
      "_________________________________________________________________\n",
      "dense_13 (Dense)             (None, 6)                 15366     \n",
      "=================================================================\n",
      "Total params: 40,518\n",
      "Trainable params: 40,518\n",
      "Non-trainable params: 0\n",
      "_________________________________________________________________\n"
     ]
    }
   ],
   "source": [
    "model_CNN.summary()"
   ]
  },
  {
   "cell_type": "code",
   "execution_count": 73,
   "id": "french-fossil",
   "metadata": {},
   "outputs": [
    {
     "name": "stdout",
     "output_type": "stream",
     "text": [
      "Epoch 1/50\n",
      "83/83 [==============================] - 24s 256ms/step - loss: 9.2192 - accuracy: 0.2265 - val_loss: 8.9351 - val_accuracy: 0.2913\n",
      "Epoch 2/50\n",
      "83/83 [==============================] - 19s 231ms/step - loss: 9.0889 - accuracy: 0.2900 - val_loss: 9.2899 - val_accuracy: 0.2943\n",
      "Epoch 3/50\n",
      "83/83 [==============================] - 21s 253ms/step - loss: 9.2186 - accuracy: 0.2919 - val_loss: 9.0122 - val_accuracy: 0.2944\n",
      "Epoch 4/50\n",
      "83/83 [==============================] - 23s 278ms/step - loss: 9.0983 - accuracy: 0.2938 - val_loss: 9.0199 - val_accuracy: 0.2946\n",
      "Epoch 5/50\n",
      "83/83 [==============================] - 23s 274ms/step - loss: 9.1120 - accuracy: 0.2918 - val_loss: 8.6558 - val_accuracy: 0.2946\n",
      "Epoch 6/50\n",
      "83/83 [==============================] - 22s 262ms/step - loss: 8.5494 - accuracy: 0.2915 - val_loss: 8.0782 - val_accuracy: 0.2858\n",
      "Epoch 7/50\n",
      "83/83 [==============================] - 21s 251ms/step - loss: 8.1506 - accuracy: 0.2853 - val_loss: 8.0782 - val_accuracy: 0.2867\n",
      "Epoch 8/50\n",
      "83/83 [==============================] - 20s 238ms/step - loss: 8.1544 - accuracy: 0.2851 - val_loss: 8.0777 - val_accuracy: 0.2877\n",
      "Epoch 9/50\n",
      "83/83 [==============================] - 21s 252ms/step - loss: 8.1905 - accuracy: 0.2858 - val_loss: 8.0777 - val_accuracy: 0.2877\n",
      "Epoch 10/50\n",
      "83/83 [==============================] - 20s 242ms/step - loss: 8.2034 - accuracy: 0.2887 - val_loss: 8.0777 - val_accuracy: 0.2877\n",
      "Epoch 11/50\n",
      "83/83 [==============================] - 20s 242ms/step - loss: 8.1305 - accuracy: 0.2854 - val_loss: 8.0782 - val_accuracy: 0.2873\n",
      "Restoring model weights from the end of the best epoch.\n",
      "Epoch 00011: early stopping\n"
     ]
    },
    {
     "data": {
      "text/plain": [
       "<keras.callbacks.History at 0x7f57283fe580>"
      ]
     },
     "execution_count": 73,
     "metadata": {},
     "output_type": "execute_result"
    }
   ],
   "source": [
    "# model_CNN.compile(loss='categorical_crossentropy',optimizer='adam',metrics=['accuracy'])\n",
    "# model_CNN.fit(X_train_cnn_reshape, y_train_onehot_cnn, validation_data=(X_test_cnn_reshape, y_test_one_hot_cnn),batch_size=batch_size, epochs=50,callbacks=[monitor])\n",
    "\n",
    "# For feature selection\n",
    "# model_CNN.compile(loss='categorical_crossentropy',optimizer='adam',metrics=['accuracy'])\n",
    "# model_CNN.fit(X_train_cnn_reshape_fs, y_train_onehot_cnn_fs, validation_data=(X_test_cnn_reshape_fs, y_test_one_hot_cnn_fs),batch_size=batch_size, epochs=50,callbacks=[monitor])\n",
    "\n",
    "\n",
    "model_CNN.compile(loss=\"mean_absolute_error\", optimizer=\"adam\", metrics=['accuracy'])\n",
    "model_CNN.fit(X_train_cnn_reshape, y_train_onehot_cnn, batch_size=1000, epochs=50, callbacks=[monitor], validation_data=(X_test_cnn_reshape, y_test_one_hot_cnn))\n",
    "\n",
    "# model_CNN.compile(loss=\"mean_absolute_error\", optimizer=\"adam\", metrics=['accuracy'])\n",
    "# model_CNN.fit(X_train_cnn_reshape_fs, y_train_onehot_cnn_fs, batch_size=1000, epochs=50, callbacks=[monitor], validation_data=(X_test_cnn_reshape_fs, y_test_one_hot_cnn_fs))"
   ]
  },
  {
   "cell_type": "code",
   "execution_count": 68,
   "id": "complicated-omega",
   "metadata": {},
   "outputs": [
    {
     "name": "stderr",
     "output_type": "stream",
     "text": [
      "/home/bbm/.local/lib/python3.8/site-packages/keras/engine/sequential.py:450: UserWarning: `model.predict_classes()` is deprecated and will be removed after 2021-01-01. Please use instead:* `np.argmax(model.predict(x), axis=-1)`,   if your model does multi-class classification   (e.g. if it uses a `softmax` last-layer activation).* `(model.predict(x) > 0.5).astype(\"int32\")`,   if your model does binary classification   (e.g. if it uses a `sigmoid` last-layer activation).\n",
      "  warnings.warn('`model.predict_classes()` is deprecated and '\n"
     ]
    }
   ],
   "source": [
    "y_perd_cnn = model_CNN.predict_classes(X_test_cnn_reshape, verbose=0)\n",
    "# y_perd_cnn_fs = model_CNN.predict_classes(X_test_cnn_reshape_fs, verbose=0)"
   ]
  },
  {
   "cell_type": "code",
   "execution_count": 291,
   "id": "weighted-middle",
   "metadata": {},
   "outputs": [
    {
     "name": "stdout",
     "output_type": "stream",
     "text": [
      "Classification Report for CNN: \n",
      "               precision    recall  f1-score   support\n",
      "\n",
      "      BENIGN       0.91      1.00      0.95      5903\n",
      "   DrDoS_DNS       0.95      0.92      0.94      5799\n",
      "  DrDoS_LDAP       0.86      0.57      0.68      5939\n",
      "   DrDoS_NTP       0.93      0.99      0.96      5988\n",
      "  DrDoS_SNMP       0.73      0.86      0.79      6061\n",
      "        TFTP       0.97      0.99      0.98      5722\n",
      "\n",
      "    accuracy                           0.89     35412\n",
      "   macro avg       0.89      0.89      0.88     35412\n",
      "weighted avg       0.89      0.89      0.88     35412\n",
      "\n"
     ]
    }
   ],
   "source": [
    "# print(\"Classification Report for CNN: \\n\", classification_report(le.inverse_transform(y_test_cnn), le.inverse_transform(y_perd_cnn)))\n",
    "print(\"Classification Report for CNN: \\n\", classification_report(le.inverse_transform(y_test_cnn_fs), le.inverse_transform(y_perd_cnn_fs)))"
   ]
  },
  {
   "cell_type": "code",
   "execution_count": 151,
   "id": "foster-anaheim",
   "metadata": {},
   "outputs": [
    {
     "name": "stdout",
     "output_type": "stream",
     "text": [
      "CNN Confusion: \n",
      " [[5901    1    0    0    0    1]\n",
      " [  40 5413   64  271   11    0]\n",
      " [   3   12 5887    3   33    1]\n",
      " [  37    2    0 5946    3    0]\n",
      " [  22    3    2  218 5811    5]\n",
      " [  36    0    0    0    0 5686]]\n"
     ]
    }
   ],
   "source": [
    "# cnn_conf_mat = confusion_matrix(y_test_cnn, y_perd_cnn)\n",
    "cnn_conf_mat = confusion_matrix(y_test_cnn_fs, y_perd_cnn_fs)\n",
    "print(\"CNN Confusion: \\n\", cnn_conf_mat)"
   ]
  },
  {
   "cell_type": "code",
   "execution_count": 69,
   "id": "wound-blackjack",
   "metadata": {},
   "outputs": [
    {
     "name": "stdout",
     "output_type": "stream",
     "text": [
      "Accuracy Score for CNN: \n",
      " 96.72427425731391\n"
     ]
    }
   ],
   "source": [
    "acc_score_cnn = accuracy_score(y_test_cnn, y_perd_cnn)\n",
    "# acc_score_cnn = accuracy_score(y_test_cnn_fs, y_perd_cnn_fs)\n",
    "print(\"Accuracy Score for CNN: \\n\", acc_score_cnn*100)"
   ]
  },
  {
   "cell_type": "markdown",
   "id": "eleven-tucson",
   "metadata": {},
   "source": [
    "                                MLP"
   ]
  },
  {
   "cell_type": "code",
   "execution_count": 34,
   "id": "third-miller",
   "metadata": {},
   "outputs": [],
   "source": [
    "y_train_mlp = np.array(y_train)\n",
    "y_test_mlp = np.array(y_test)\n",
    "\n",
    "y_train_onehot_mlp = to_categorical(y_train_mlp)\n",
    "y_test_one_hot_mlp = to_categorical(y_test_mlp)\n",
    "\n",
    "X_train_mlp = np.array(X_train_std)\n",
    "X_test_mlp = np.array(X_test_std)\n",
    "\n",
    "# For feature selection\n",
    "y_train_mlp_fs = np.array(y_train_fs)\n",
    "y_test_mlp_fs = np.array(y_test_fs)\n",
    "\n",
    "y_train_onehot_mlp_fs = to_categorical(y_train_mlp_fs)\n",
    "y_test_one_hot_mlp_fs = to_categorical(y_test_mlp_fs)\n",
    "\n",
    "X_train_mlp_fs = np.array(X_train_std_fs)\n",
    "X_test_mlp_fs = np.array(X_test_std_fs)"
   ]
  },
  {
   "cell_type": "code",
   "execution_count": 74,
   "id": "continent-usage",
   "metadata": {},
   "outputs": [],
   "source": [
    "batch_size = 100\n",
    "np.random.seed(300)  \n",
    "\n",
    "model_MLP = Sequential()\n",
    "model_MLP.add(Dense(128,input_dim=20,activation='relu'))  \n",
    "model_MLP.add(Dropout(0.01))\n",
    "model_MLP.add(Dense(64,activation='relu'))  \n",
    "model_MLP.add(Dropout(0.01))\n",
    "model_MLP.add(Dense(16,activation='relu'))  \n",
    "model_MLP.add(Dropout(0.01))\n",
    "# model_MLP.add(Dense(2500,activation='relu'))  \n",
    "# model_MLP.add(Dropout(0.01))\n",
    "# model_MLP.add(Dense(2000,activation='relu'))  \n",
    "# model_MLP.add(Dropout(0.01))\n",
    "# model_MLP.add(Dense(1000,activation='relu'))  \n",
    "# model_MLP.add(Dropout(0.01))\n",
    "# model_MLP.add(Dense(500,activation='relu'))  \n",
    "# model_MLP.add(Dropout(0.01))\n",
    "# model_MLP.add(Dense(200,activation='relu'))  \n",
    "# model_MLP.add(Dropout(0.01))\n",
    "model_MLP.add(Dense(6))\n",
    "model_MLP.add(Activation('softmax'))\n",
    "monitor = EarlyStopping(monitor='val_loss', min_delta=1e-3, patience=5, verbose=1, mode='auto',\n",
    "      restore_best_weights=True)"
   ]
  },
  {
   "cell_type": "code",
   "execution_count": 75,
   "id": "differential-wholesale",
   "metadata": {},
   "outputs": [
    {
     "name": "stdout",
     "output_type": "stream",
     "text": [
      "Epoch 1/50\n",
      "827/827 [==============================] - 2s 2ms/step - loss: 0.3786 - accuracy: 0.8665 - val_loss: 0.0295 - val_accuracy: 0.9921\n",
      "Epoch 2/50\n",
      "827/827 [==============================] - 1s 2ms/step - loss: 0.0300 - accuracy: 0.9906 - val_loss: 0.0239 - val_accuracy: 0.9903\n",
      "Epoch 3/50\n",
      "827/827 [==============================] - 1s 2ms/step - loss: 0.0243 - accuracy: 0.9916 - val_loss: 0.0173 - val_accuracy: 0.9933\n",
      "Epoch 4/50\n",
      "827/827 [==============================] - 1s 2ms/step - loss: 0.0177 - accuracy: 0.9936 - val_loss: 0.0101 - val_accuracy: 0.9974\n",
      "Epoch 5/50\n",
      "827/827 [==============================] - 1s 2ms/step - loss: 0.0145 - accuracy: 0.9946 - val_loss: 0.0079 - val_accuracy: 0.9981\n",
      "Epoch 6/50\n",
      "827/827 [==============================] - 1s 2ms/step - loss: 0.0125 - accuracy: 0.9950 - val_loss: 0.0179 - val_accuracy: 0.9938\n",
      "Epoch 7/50\n",
      "827/827 [==============================] - 1s 2ms/step - loss: 0.0129 - accuracy: 0.9951 - val_loss: 0.0207 - val_accuracy: 0.9920\n",
      "Epoch 8/50\n",
      "827/827 [==============================] - 1s 2ms/step - loss: 0.0106 - accuracy: 0.9965 - val_loss: 0.0082 - val_accuracy: 0.9981\n",
      "Epoch 9/50\n",
      "827/827 [==============================] - 1s 2ms/step - loss: 0.0105 - accuracy: 0.9962 - val_loss: 0.0177 - val_accuracy: 0.9936\n",
      "Epoch 10/50\n",
      "827/827 [==============================] - 1s 2ms/step - loss: 0.0137 - accuracy: 0.9954 - val_loss: 0.0138 - val_accuracy: 0.9951\n",
      "Restoring model weights from the end of the best epoch.\n",
      "Epoch 00010: early stopping\n"
     ]
    },
    {
     "data": {
      "text/plain": [
       "<keras.callbacks.History at 0x7f5728310160>"
      ]
     },
     "execution_count": 75,
     "metadata": {},
     "output_type": "execute_result"
    }
   ],
   "source": [
    "# try using different optimizers and different optimizer configs\n",
    "# model_MLP.compile(loss='categorical_crossentropy',optimizer='adam',metrics=['accuracy'])\n",
    "# model_MLP.fit(X_train_mlp, y_train_onehot_mlp, validation_data=(X_test_mlp, y_test_one_hot_mlp),batch_size=batch_size, epochs=50,callbacks=[monitor])\n",
    "\n",
    "\n",
    "# For feature selection\n",
    "model_MLP.compile(loss='categorical_crossentropy',optimizer='adam',metrics=['accuracy'])\n",
    "model_MLP.fit(X_train_mlp_fs, y_train_onehot_mlp_fs, validation_data=(X_test_mlp_fs, y_test_one_hot_mlp_fs),batch_size=batch_size, epochs=50,callbacks=[monitor])"
   ]
  },
  {
   "cell_type": "code",
   "execution_count": 76,
   "id": "alternative-berry",
   "metadata": {},
   "outputs": [
    {
     "name": "stderr",
     "output_type": "stream",
     "text": [
      "/home/bbm/.local/lib/python3.8/site-packages/keras/engine/sequential.py:450: UserWarning: `model.predict_classes()` is deprecated and will be removed after 2021-01-01. Please use instead:* `np.argmax(model.predict(x), axis=-1)`,   if your model does multi-class classification   (e.g. if it uses a `softmax` last-layer activation).* `(model.predict(x) > 0.5).astype(\"int32\")`,   if your model does binary classification   (e.g. if it uses a `sigmoid` last-layer activation).\n",
      "  warnings.warn('`model.predict_classes()` is deprecated and '\n"
     ]
    }
   ],
   "source": [
    "# y_perd_mlp = model_MLP.predict_classes(X_test_mlp, verbose=0)\n",
    "y_perd_mlp_fs = model_MLP.predict_classes(X_test_mlp_fs, verbose=0)"
   ]
  },
  {
   "cell_type": "code",
   "execution_count": 224,
   "id": "excessive-communications",
   "metadata": {},
   "outputs": [
    {
     "name": "stdout",
     "output_type": "stream",
     "text": [
      "Classification Report for MLP: \n",
      "               precision    recall  f1-score   support\n",
      "\n",
      "      BENIGN       1.00      1.00      1.00      5903\n",
      "   DrDoS_DNS       1.00      0.99      1.00      5799\n",
      "  DrDoS_LDAP       1.00      1.00      1.00      5939\n",
      "   DrDoS_NTP       0.99      1.00      1.00      5988\n",
      "  DrDoS_SNMP       1.00      1.00      1.00      6061\n",
      "        TFTP       1.00      1.00      1.00      5722\n",
      "\n",
      "    accuracy                           1.00     35412\n",
      "   macro avg       1.00      1.00      1.00     35412\n",
      "weighted avg       1.00      1.00      1.00     35412\n",
      "\n"
     ]
    }
   ],
   "source": [
    "# print(\"Classification Report for MLP: \\n\", classification_report(le.inverse_transform(y_test_mlp), le.inverse_transform(y_perd_mlp)))\n",
    "print(\"Classification Report for MLP: \\n\", classification_report(le.inverse_transform(y_test_mlp_fs), le.inverse_transform(y_perd_mlp_fs)))"
   ]
  },
  {
   "cell_type": "code",
   "execution_count": 225,
   "id": "distinguished-stomach",
   "metadata": {},
   "outputs": [
    {
     "name": "stdout",
     "output_type": "stream",
     "text": [
      "MLP Confusion: \n",
      " [[5903    0    0    0    0    0]\n",
      " [   0 5755    2   42    0    0]\n",
      " [   0    5 5910    0   24    0]\n",
      " [   0    0    0 5988    0    0]\n",
      " [   0    0    0    0 6059    2]\n",
      " [   0    0    0    0    0 5722]]\n"
     ]
    }
   ],
   "source": [
    "# mlp_conf_mat = confusion_matrix(y_test_mlp, y_perd_mlp)\n",
    "mlp_conf_mat = confusion_matrix(y_test_mlp_fs, y_perd_mlp_fs)\n",
    "print(\"MLP Confusion: \\n\", mlp_conf_mat)"
   ]
  },
  {
   "cell_type": "code",
   "execution_count": 77,
   "id": "turned-freedom",
   "metadata": {},
   "outputs": [
    {
     "name": "stdout",
     "output_type": "stream",
     "text": [
      "Accuracy Score for MLP: \n",
      " 99.81079859934485\n"
     ]
    }
   ],
   "source": [
    "# acc_score_mlp = accuracy_score(y_test_mlp, y_perd_mlp)\n",
    "acc_score_mlp = accuracy_score(y_test_mlp_fs, y_perd_mlp_fs)\n",
    "print(\"Accuracy Score for MLP: \\n\", acc_score_mlp*100)"
   ]
  },
  {
   "cell_type": "code",
   "execution_count": null,
   "id": "accompanied-iraqi",
   "metadata": {},
   "outputs": [],
   "source": []
  }
 ],
 "metadata": {
  "kernelspec": {
   "display_name": "Python 3",
   "language": "python",
   "name": "python3"
  },
  "language_info": {
   "codemirror_mode": {
    "name": "ipython",
    "version": 3
   },
   "file_extension": ".py",
   "mimetype": "text/x-python",
   "name": "python",
   "nbconvert_exporter": "python",
   "pygments_lexer": "ipython3",
   "version": "3.8.10"
  }
 },
 "nbformat": 4,
 "nbformat_minor": 5
}
