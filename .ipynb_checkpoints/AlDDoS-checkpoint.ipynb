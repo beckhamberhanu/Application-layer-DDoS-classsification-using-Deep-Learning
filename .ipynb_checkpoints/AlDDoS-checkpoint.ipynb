{
 "cells": [
  {
   "cell_type": "markdown",
   "id": "turned-adult",
   "metadata": {},
   "source": [
    "To randomly pick desired sample size from a csv file and save it.  "
   ]
  },
  {
   "cell_type": "code",
   "execution_count": 19,
   "id": "pressed-parallel",
   "metadata": {},
   "outputs": [],
   "source": [
    "import pandas as pd\n",
    "import random\n",
    "\n",
    "# data = pd.read_csv('/home/bbm/Documents/Edu/AAU/Thesis/CICDDoS2019 Dataset/DS/Classified/DDoS_DNS.csv')\n",
    "\n",
    "n = 5071011 # number of records in file\n",
    "s = 20000 # desired sample size\n",
    "\n",
    "filename = \"/home/bbm/Documents/Edu/AAU/Thesis/CICDDoS2019 Dataset/DS/Classified/DDoS_DNS.csv\"\n",
    "skip = sorted(random.sample(range(1, n+1),n-s))\n",
    "df = pd.read_csv(filename, skiprows=skip)\n",
    "\n",
    "df.to_csv('/home/bbm/Documents/Edu/AAU/Thesis/CICDDoS2019 Dataset/DS/Classified/AlDDoS.csv', index = False)"
   ]
  },
  {
   "cell_type": "markdown",
   "id": "offshore-warehouse",
   "metadata": {},
   "source": [
    "To append new randomly selected instances to the existing csv file, this step will be done 9 times."
   ]
  },
  {
   "cell_type": "code",
   "execution_count": 18,
   "id": "hidden-plumbing",
   "metadata": {},
   "outputs": [],
   "source": [
    "import pandas as pd\n",
    "import random\n",
    "\n",
    "# data = pd.read_csv('/home/bbm/Documents/Edu/AAU/Thesis/CICDDoS2019 Dataset/DS/Classified/DDoS_DNS.csv')\n",
    "\n",
    "n = 3402 # number of records in file\n",
    "s = 1500 # desired sample size\n",
    "\n",
    "filename = \"/home/bbm/Documents/Edu/AAU/Thesis/CICDDoS2019 Dataset/DS/Classified/BENIGN_DNS.csv\"\n",
    "skip = sorted(random.sample(range(n),n-s))\n",
    "df = pd.read_csv(filename, skiprows=skip)\n",
    "\n",
    "df.to_csv('/home/bbm/Documents/Edu/AAU/Thesis/CICDDoS2019 Dataset/DS/Classified/AlDDoS.csv', mode='a', index = False, header=False)"
   ]
  },
  {
   "cell_type": "markdown",
   "id": "capital-flavor",
   "metadata": {},
   "source": [
    "Hold out cross validation 80/20"
   ]
  },
  {
   "cell_type": "code",
   "execution_count": 2,
   "id": "numerous-accent",
   "metadata": {},
   "outputs": [],
   "source": [
    "import pandas as pd\n",
    "from sklearn.model_selection import train_test_split"
   ]
  },
  {
   "cell_type": "code",
   "execution_count": 11,
   "id": "positive-forth",
   "metadata": {},
   "outputs": [
    {
     "data": {
      "text/html": [
       "<div>\n",
       "<style scoped>\n",
       "    .dataframe tbody tr th:only-of-type {\n",
       "        vertical-align: middle;\n",
       "    }\n",
       "\n",
       "    .dataframe tbody tr th {\n",
       "        vertical-align: top;\n",
       "    }\n",
       "\n",
       "    .dataframe thead th {\n",
       "        text-align: right;\n",
       "    }\n",
       "</style>\n",
       "<table border=\"1\" class=\"dataframe\">\n",
       "  <thead>\n",
       "    <tr style=\"text-align: right;\">\n",
       "      <th></th>\n",
       "      <th>Unnamed: 0</th>\n",
       "      <th>Flow ID</th>\n",
       "      <th>Source IP</th>\n",
       "      <th>Source Port</th>\n",
       "      <th>Destination IP</th>\n",
       "      <th>Destination Port</th>\n",
       "      <th>Protocol</th>\n",
       "      <th>Timestamp</th>\n",
       "      <th>Flow Duration</th>\n",
       "      <th>Total Fwd Packets</th>\n",
       "      <th>...</th>\n",
       "      <th>Active Std</th>\n",
       "      <th>Active Max</th>\n",
       "      <th>Active Min</th>\n",
       "      <th>Idle Mean</th>\n",
       "      <th>Idle Std</th>\n",
       "      <th>Idle Max</th>\n",
       "      <th>Idle Min</th>\n",
       "      <th>SimillarHTTP</th>\n",
       "      <th>Inbound</th>\n",
       "      <th>Label</th>\n",
       "    </tr>\n",
       "  </thead>\n",
       "  <tbody>\n",
       "    <tr>\n",
       "      <th>0</th>\n",
       "      <td>750</td>\n",
       "      <td>172.16.0.5-192.168.50.1-634-56837-17</td>\n",
       "      <td>172.16.0.5</td>\n",
       "      <td>634</td>\n",
       "      <td>192.168.50.1</td>\n",
       "      <td>56837</td>\n",
       "      <td>17</td>\n",
       "      <td>2018-12-01 10:51:44.467358</td>\n",
       "      <td>51876</td>\n",
       "      <td>200</td>\n",
       "      <td>...</td>\n",
       "      <td>0.0</td>\n",
       "      <td>0.0</td>\n",
       "      <td>0.0</td>\n",
       "      <td>0.0</td>\n",
       "      <td>0.0</td>\n",
       "      <td>0.0</td>\n",
       "      <td>0.0</td>\n",
       "      <td>0</td>\n",
       "      <td>1</td>\n",
       "      <td>DrDoS_DNS</td>\n",
       "    </tr>\n",
       "    <tr>\n",
       "      <th>1</th>\n",
       "      <td>584</td>\n",
       "      <td>172.16.0.5-192.168.50.1-634-57912-17</td>\n",
       "      <td>172.16.0.5</td>\n",
       "      <td>634</td>\n",
       "      <td>192.168.50.1</td>\n",
       "      <td>57912</td>\n",
       "      <td>17</td>\n",
       "      <td>2018-12-01 10:52:07.389959</td>\n",
       "      <td>3</td>\n",
       "      <td>2</td>\n",
       "      <td>...</td>\n",
       "      <td>0.0</td>\n",
       "      <td>0.0</td>\n",
       "      <td>0.0</td>\n",
       "      <td>0.0</td>\n",
       "      <td>0.0</td>\n",
       "      <td>0.0</td>\n",
       "      <td>0.0</td>\n",
       "      <td>0</td>\n",
       "      <td>1</td>\n",
       "      <td>DrDoS_DNS</td>\n",
       "    </tr>\n",
       "    <tr>\n",
       "      <th>2</th>\n",
       "      <td>3248</td>\n",
       "      <td>172.16.0.5-192.168.50.1-634-2500-17</td>\n",
       "      <td>172.16.0.5</td>\n",
       "      <td>634</td>\n",
       "      <td>192.168.50.1</td>\n",
       "      <td>2500</td>\n",
       "      <td>17</td>\n",
       "      <td>2018-12-01 10:53:00.111827</td>\n",
       "      <td>36869</td>\n",
       "      <td>200</td>\n",
       "      <td>...</td>\n",
       "      <td>0.0</td>\n",
       "      <td>0.0</td>\n",
       "      <td>0.0</td>\n",
       "      <td>0.0</td>\n",
       "      <td>0.0</td>\n",
       "      <td>0.0</td>\n",
       "      <td>0.0</td>\n",
       "      <td>0</td>\n",
       "      <td>1</td>\n",
       "      <td>DrDoS_DNS</td>\n",
       "    </tr>\n",
       "    <tr>\n",
       "      <th>3</th>\n",
       "      <td>1804</td>\n",
       "      <td>172.16.0.5-192.168.50.1-634-12106-17</td>\n",
       "      <td>172.16.0.5</td>\n",
       "      <td>634</td>\n",
       "      <td>192.168.50.1</td>\n",
       "      <td>12106</td>\n",
       "      <td>17</td>\n",
       "      <td>2018-12-01 10:53:55.757296</td>\n",
       "      <td>96620</td>\n",
       "      <td>200</td>\n",
       "      <td>...</td>\n",
       "      <td>0.0</td>\n",
       "      <td>0.0</td>\n",
       "      <td>0.0</td>\n",
       "      <td>0.0</td>\n",
       "      <td>0.0</td>\n",
       "      <td>0.0</td>\n",
       "      <td>0.0</td>\n",
       "      <td>0</td>\n",
       "      <td>1</td>\n",
       "      <td>DrDoS_DNS</td>\n",
       "    </tr>\n",
       "    <tr>\n",
       "      <th>4</th>\n",
       "      <td>1260</td>\n",
       "      <td>172.16.0.5-192.168.50.1-634-52998-17</td>\n",
       "      <td>172.16.0.5</td>\n",
       "      <td>634</td>\n",
       "      <td>192.168.50.1</td>\n",
       "      <td>52998</td>\n",
       "      <td>17</td>\n",
       "      <td>2018-12-01 10:54:26.832133</td>\n",
       "      <td>20771</td>\n",
       "      <td>90</td>\n",
       "      <td>...</td>\n",
       "      <td>0.0</td>\n",
       "      <td>0.0</td>\n",
       "      <td>0.0</td>\n",
       "      <td>0.0</td>\n",
       "      <td>0.0</td>\n",
       "      <td>0.0</td>\n",
       "      <td>0.0</td>\n",
       "      <td>0</td>\n",
       "      <td>1</td>\n",
       "      <td>DrDoS_DNS</td>\n",
       "    </tr>\n",
       "  </tbody>\n",
       "</table>\n",
       "<p>5 rows × 88 columns</p>\n",
       "</div>"
      ],
      "text/plain": [
       "   Unnamed: 0                               Flow ID   Source IP  Source Port  \\\n",
       "0         750  172.16.0.5-192.168.50.1-634-56837-17  172.16.0.5          634   \n",
       "1         584  172.16.0.5-192.168.50.1-634-57912-17  172.16.0.5          634   \n",
       "2        3248   172.16.0.5-192.168.50.1-634-2500-17  172.16.0.5          634   \n",
       "3        1804  172.16.0.5-192.168.50.1-634-12106-17  172.16.0.5          634   \n",
       "4        1260  172.16.0.5-192.168.50.1-634-52998-17  172.16.0.5          634   \n",
       "\n",
       "  Destination IP  Destination Port  Protocol                   Timestamp  \\\n",
       "0   192.168.50.1             56837        17  2018-12-01 10:51:44.467358   \n",
       "1   192.168.50.1             57912        17  2018-12-01 10:52:07.389959   \n",
       "2   192.168.50.1              2500        17  2018-12-01 10:53:00.111827   \n",
       "3   192.168.50.1             12106        17  2018-12-01 10:53:55.757296   \n",
       "4   192.168.50.1             52998        17  2018-12-01 10:54:26.832133   \n",
       "\n",
       "   Flow Duration  Total Fwd Packets  ...  Active Std  Active Max  Active Min  \\\n",
       "0          51876                200  ...         0.0         0.0         0.0   \n",
       "1              3                  2  ...         0.0         0.0         0.0   \n",
       "2          36869                200  ...         0.0         0.0         0.0   \n",
       "3          96620                200  ...         0.0         0.0         0.0   \n",
       "4          20771                 90  ...         0.0         0.0         0.0   \n",
       "\n",
       "   Idle Mean  Idle Std  Idle Max  Idle Min  SimillarHTTP  Inbound      Label  \n",
       "0        0.0       0.0       0.0       0.0             0        1  DrDoS_DNS  \n",
       "1        0.0       0.0       0.0       0.0             0        1  DrDoS_DNS  \n",
       "2        0.0       0.0       0.0       0.0             0        1  DrDoS_DNS  \n",
       "3        0.0       0.0       0.0       0.0             0        1  DrDoS_DNS  \n",
       "4        0.0       0.0       0.0       0.0             0        1  DrDoS_DNS  \n",
       "\n",
       "[5 rows x 88 columns]"
      ]
     },
     "execution_count": 11,
     "metadata": {},
     "output_type": "execute_result"
    }
   ],
   "source": [
    "df = pd.read_csv('/home/bbm/Documents/Edu/AAU/Thesis/CICDDoS2019 Dataset/DS/Classified/AlDDoS.csv')\n",
    "df.columns = df.columns.str.strip()\n",
    "df.head()"
   ]
  },
  {
   "cell_type": "code",
   "execution_count": 4,
   "id": "descending-modeling",
   "metadata": {},
   "outputs": [
    {
     "data": {
      "text/plain": [
       "DrDoS_LDAP    20000\n",
       "DrDoS_DNS     20000\n",
       "DrDoS_SNMP    20000\n",
       "BENIGN        20000\n",
       "DrDoS_NTP     20000\n",
       "TFTP          20000\n",
       "Name: Label, dtype: int64"
      ]
     },
     "execution_count": 4,
     "metadata": {},
     "output_type": "execute_result"
    }
   ],
   "source": [
    "df['Label'].value_counts()"
   ]
  },
  {
   "cell_type": "code",
   "execution_count": 10,
   "id": "light-operator",
   "metadata": {},
   "outputs": [
    {
     "data": {
      "text/plain": [
       "((120000, 88), (96000, 88), (24000, 88))"
      ]
     },
     "execution_count": 10,
     "metadata": {},
     "output_type": "execute_result"
    }
   ],
   "source": [
    "X_train, X_test = train_test_split(df, test_size=0.2)\n",
    "df.shape, X_train.shape, X_test.shape"
   ]
  },
  {
   "cell_type": "code",
   "execution_count": 6,
   "id": "prerequisite-nigeria",
   "metadata": {},
   "outputs": [
    {
     "data": {
      "text/plain": [
       "DrDoS_NTP     16040\n",
       "TFTP          16026\n",
       "BENIGN        16019\n",
       "DrDoS_SNMP    15999\n",
       "DrDoS_DNS     15982\n",
       "DrDoS_LDAP    15934\n",
       "Name: Label, dtype: int64"
      ]
     },
     "execution_count": 6,
     "metadata": {},
     "output_type": "execute_result"
    }
   ],
   "source": [
    "X_train['Label'].value_counts()"
   ]
  },
  {
   "cell_type": "code",
   "execution_count": 7,
   "id": "thermal-guyana",
   "metadata": {},
   "outputs": [
    {
     "data": {
      "text/plain": [
       "DrDoS_LDAP    4066\n",
       "DrDoS_DNS     4018\n",
       "DrDoS_SNMP    4001\n",
       "BENIGN        3981\n",
       "TFTP          3974\n",
       "DrDoS_NTP     3960\n",
       "Name: Label, dtype: int64"
      ]
     },
     "execution_count": 7,
     "metadata": {},
     "output_type": "execute_result"
    }
   ],
   "source": [
    "X_test['Label'].value_counts()"
   ]
  },
  {
   "cell_type": "code",
   "execution_count": 8,
   "id": "nutritional-burns",
   "metadata": {},
   "outputs": [],
   "source": [
    "X_train.to_csv('/home/bbm/Documents/Edu/AAU/Thesis/CICDDoS2019 Dataset/DS/Classified/AlDDoS_train.csv', index = False)"
   ]
  },
  {
   "cell_type": "code",
   "execution_count": 9,
   "id": "cardiovascular-ground",
   "metadata": {},
   "outputs": [],
   "source": [
    "X_test.to_csv('/home/bbm/Documents/Edu/AAU/Thesis/CICDDoS2019 Dataset/DS/Classified/AlDDoS_test.csv', index = False)"
   ]
  },
  {
   "cell_type": "markdown",
   "id": "attached-bacteria",
   "metadata": {},
   "source": [
    "Change categorical features into binary "
   ]
  },
  {
   "cell_type": "code",
   "execution_count": 1,
   "id": "personal-quantity",
   "metadata": {},
   "outputs": [],
   "source": [
    "import pandas as pd\n",
    "from sklearn import preprocessing \n",
    "from sklearn.preprocessing import LabelEncoder,OneHotEncoder\n",
    "from collections import defaultdict"
   ]
  },
  {
   "cell_type": "code",
   "execution_count": 2,
   "id": "figured-functionality",
   "metadata": {},
   "outputs": [],
   "source": [
    "df_train = pd.read_csv('/home/bbm/Documents/Edu/AAU/Thesis/CICDDoS2019 Dataset/DS/Classified/AlDDoS_train.csv')\n",
    "df_test = pd.read_csv('/home/bbm/Documents/Edu/AAU/Thesis/CICDDoS2019 Dataset/DS/Classified/AlDDoS_test.csv')\n",
    "\n",
    "df_train.columns = df_train.columns.str.strip()\n",
    "df_test.columns = df_test.columns.str.strip()"
   ]
  },
  {
   "cell_type": "code",
   "execution_count": 3,
   "id": "limiting-mixer",
   "metadata": {},
   "outputs": [
    {
     "data": {
      "text/plain": [
       "Unnamed: 0        0\n",
       "Flow ID           0\n",
       "Source IP         0\n",
       "Source Port       0\n",
       "Destination IP    0\n",
       "                 ..\n",
       "Idle Max          0\n",
       "Idle Min          0\n",
       "SimillarHTTP      0\n",
       "Inbound           0\n",
       "Label             0\n",
       "Length: 88, dtype: int64"
      ]
     },
     "execution_count": 3,
     "metadata": {},
     "output_type": "execute_result"
    }
   ],
   "source": [
    "df_train.shape\n",
    "df_train.isna().sum()"
   ]
  },
  {
   "cell_type": "code",
   "execution_count": 4,
   "id": "engaging-exception",
   "metadata": {},
   "outputs": [
    {
     "data": {
      "text/plain": [
       "(24000, 88)"
      ]
     },
     "execution_count": 4,
     "metadata": {},
     "output_type": "execute_result"
    }
   ],
   "source": [
    "df_test.shape"
   ]
  },
  {
   "cell_type": "markdown",
   "id": "compact-extraction",
   "metadata": {},
   "source": [
    "List categorical Features "
   ]
  },
  {
   "cell_type": "code",
   "execution_count": 5,
   "id": "perceived-september",
   "metadata": {},
   "outputs": [
    {
     "data": {
      "text/plain": [
       "['Flow ID',\n",
       " 'Source IP',\n",
       " 'Destination IP',\n",
       " 'Timestamp',\n",
       " 'SimillarHTTP',\n",
       " 'Label']"
      ]
     },
     "execution_count": 5,
     "metadata": {},
     "output_type": "execute_result"
    }
   ],
   "source": [
    "# 1\n",
    "    #cat_features=[i for i in df.columns if df.dtypes[i]=='object']\n",
    "    #cat_features\n",
    "# 2\n",
    "    #catCols = df.select_dtypes(\"object\").columns\n",
    "    #catCols= list(set(catCols))\n",
    "    #catCols\n",
    "# 3 \n",
    "\n",
    "df_train.select_dtypes(include=['object']).columns.tolist()"
   ]
  },
  {
   "cell_type": "code",
   "execution_count": 6,
   "id": "massive-accountability",
   "metadata": {},
   "outputs": [
    {
     "data": {
      "text/plain": [
       "['Flow ID',\n",
       " 'Source IP',\n",
       " 'Destination IP',\n",
       " 'Timestamp',\n",
       " 'SimillarHTTP',\n",
       " 'Label']"
      ]
     },
     "execution_count": 6,
     "metadata": {},
     "output_type": "execute_result"
    }
   ],
   "source": [
    "df_test.select_dtypes(include=['object']).columns.tolist()"
   ]
  },
  {
   "cell_type": "code",
   "execution_count": 7,
   "id": "rental-effectiveness",
   "metadata": {},
   "outputs": [
    {
     "data": {
      "text/plain": [
       "['Unnamed: 0',\n",
       " 'Source Port',\n",
       " 'Destination Port',\n",
       " 'Protocol',\n",
       " 'Flow Duration',\n",
       " 'Total Fwd Packets',\n",
       " 'Total Backward Packets',\n",
       " 'Total Length of Fwd Packets',\n",
       " 'Total Length of Bwd Packets',\n",
       " 'Fwd Packet Length Max',\n",
       " 'Fwd Packet Length Min',\n",
       " 'Fwd Packet Length Mean',\n",
       " 'Fwd Packet Length Std',\n",
       " 'Bwd Packet Length Max',\n",
       " 'Bwd Packet Length Min',\n",
       " 'Bwd Packet Length Mean',\n",
       " 'Bwd Packet Length Std',\n",
       " 'Flow Bytes/s',\n",
       " 'Flow Packets/s',\n",
       " 'Flow IAT Mean',\n",
       " 'Flow IAT Std',\n",
       " 'Flow IAT Max',\n",
       " 'Flow IAT Min',\n",
       " 'Fwd IAT Total',\n",
       " 'Fwd IAT Mean',\n",
       " 'Fwd IAT Std',\n",
       " 'Fwd IAT Max',\n",
       " 'Fwd IAT Min',\n",
       " 'Bwd IAT Total',\n",
       " 'Bwd IAT Mean',\n",
       " 'Bwd IAT Std',\n",
       " 'Bwd IAT Max',\n",
       " 'Bwd IAT Min',\n",
       " 'Fwd PSH Flags',\n",
       " 'Bwd PSH Flags',\n",
       " 'Fwd URG Flags',\n",
       " 'Bwd URG Flags',\n",
       " 'Fwd Header Length',\n",
       " 'Bwd Header Length',\n",
       " 'Fwd Packets/s',\n",
       " 'Bwd Packets/s',\n",
       " 'Min Packet Length',\n",
       " 'Max Packet Length',\n",
       " 'Packet Length Mean',\n",
       " 'Packet Length Std',\n",
       " 'Packet Length Variance',\n",
       " 'FIN Flag Count',\n",
       " 'SYN Flag Count',\n",
       " 'RST Flag Count',\n",
       " 'PSH Flag Count',\n",
       " 'ACK Flag Count',\n",
       " 'URG Flag Count',\n",
       " 'CWE Flag Count',\n",
       " 'ECE Flag Count',\n",
       " 'Down/Up Ratio',\n",
       " 'Average Packet Size',\n",
       " 'Avg Fwd Segment Size',\n",
       " 'Avg Bwd Segment Size',\n",
       " 'Fwd Header Length.1',\n",
       " 'Fwd Avg Bytes/Bulk',\n",
       " 'Fwd Avg Packets/Bulk',\n",
       " 'Fwd Avg Bulk Rate',\n",
       " 'Bwd Avg Bytes/Bulk',\n",
       " 'Bwd Avg Packets/Bulk',\n",
       " 'Bwd Avg Bulk Rate',\n",
       " 'Subflow Fwd Packets',\n",
       " 'Subflow Fwd Bytes',\n",
       " 'Subflow Bwd Packets',\n",
       " 'Subflow Bwd Bytes',\n",
       " 'Init_Win_bytes_forward',\n",
       " 'Init_Win_bytes_backward',\n",
       " 'act_data_pkt_fwd',\n",
       " 'min_seg_size_forward',\n",
       " 'Active Mean',\n",
       " 'Active Std',\n",
       " 'Active Max',\n",
       " 'Active Min',\n",
       " 'Idle Mean',\n",
       " 'Idle Std',\n",
       " 'Idle Max',\n",
       " 'Idle Min',\n",
       " 'Inbound']"
      ]
     },
     "execution_count": 7,
     "metadata": {},
     "output_type": "execute_result"
    }
   ],
   "source": [
    "# list numerical Features \n",
    "\n",
    "df_train.select_dtypes(include=['number']).columns.tolist()\n",
    "\n",
    "# numCols = df.select_dtypes(\"number\").columns\n",
    "# numCols= list(set(numCols))\n",
    "# numCols"
   ]
  },
  {
   "cell_type": "code",
   "execution_count": 8,
   "id": "violent-transport",
   "metadata": {},
   "outputs": [
    {
     "name": "stdout",
     "output_type": "stream",
     "text": [
      "Feature 'Flow ID' has 90285 categories\n",
      "Feature 'Source IP' has 403 categories\n",
      "Feature 'Destination IP' has 491 categories\n",
      "Feature 'Timestamp' has 95987 categories\n",
      "Feature 'SimillarHTTP' has 187 categories\n",
      "Feature 'Label' has 6 categories\n",
      "\n",
      "Distribution of categories in service:\n",
      "DrDoS_NTP     16040\n",
      "TFTP          16026\n",
      "BENIGN        16019\n",
      "DrDoS_SNMP    15999\n",
      "DrDoS_DNS     15982\n",
      "Name: Label, dtype: int64\n"
     ]
    }
   ],
   "source": [
    "# label_encoder = preprocessing.LabelEncoder()\n",
    "# print('Training set:')\n",
    "for col_name in df_train.columns:\n",
    "    if df_train[col_name].dtypes == 'object' :\n",
    "        unique_cat = len(df_train[col_name].unique())\n",
    "        print(\"Feature '{col_name}' has {unique_cat} categories\".format(col_name=col_name, unique_cat=unique_cat))\n",
    "\n",
    "print()\n",
    "print('Distribution of categories in service:')\n",
    "print(df_train['Label'].value_counts().sort_values(ascending=False).head())"
   ]
  },
  {
   "cell_type": "code",
   "execution_count": 9,
   "id": "initial-thunder",
   "metadata": {},
   "outputs": [
    {
     "name": "stdout",
     "output_type": "stream",
     "text": [
      "Feature 'Flow ID' has 23329 categories\n",
      "Feature 'Source IP' has 228 categories\n",
      "Feature 'Destination IP' has 338 categories\n",
      "Feature 'Timestamp' has 23999 categories\n",
      "Feature 'SimillarHTTP' has 75 categories\n",
      "Feature 'Label' has 6 categories\n",
      "\n",
      "Distribution of categories in service:\n",
      "DrDoS_LDAP    4066\n",
      "DrDoS_DNS     4018\n",
      "DrDoS_SNMP    4001\n",
      "BENIGN        3981\n",
      "TFTP          3974\n",
      "Name: Label, dtype: int64\n"
     ]
    }
   ],
   "source": [
    "for col_name in df_test.columns:\n",
    "    if df_test[col_name].dtypes == 'object' :\n",
    "        unique_cat = len(df_test[col_name].unique())\n",
    "        print(\"Feature '{col_name}' has {unique_cat} categories\".format(col_name=col_name, unique_cat=unique_cat))\n",
    "\n",
    "print()\n",
    "print('Distribution of categories in service:')\n",
    "print(df_test['Label'].value_counts().sort_values(ascending=False).head())"
   ]
  },
  {
   "cell_type": "code",
   "execution_count": 10,
   "id": "unsigned-pixel",
   "metadata": {},
   "outputs": [],
   "source": [
    "# enc.apply(LabelEncoder().fit_transform).astype(str)\n",
    "# df[cat] = le.fit_transform(df[cat].astype(str))\n",
    "# OneHotEncoder().fit_transform(enc)\n",
    "# ohe = OneHotEncoder(sparse=False)\n",
    "# ohe.fit_transform(df['Label'])\n",
    "\n",
    "categorical_columns=['Flow ID', 'Source IP', 'Destination IP',  'Timestamp', 'SimillarHTTP','Label']\n",
    "\n",
    "df_categorical_values_train = df_train[categorical_columns].astype(str)\n",
    "df_categorical_values_test = df_test[categorical_columns].astype(str)\n",
    "\n",
    "\n",
    "# df[cat] = le.fit_transform(df[cat].astype(str))\n",
    "# for Test\n",
    "# testdf_categorical_values = df_test_21[categorical_columns]"
   ]
  },
  {
   "cell_type": "code",
   "execution_count": 11,
   "id": "activated-eugene",
   "metadata": {},
   "outputs": [
    {
     "name": "stdout",
     "output_type": "stream",
     "text": [
      "                                Flow ID   Source IP Destination IP  \\\n",
      "0  172.16.0.5-192.168.50.1-979-31990-17  172.16.0.5   192.168.50.1   \n",
      "1  172.16.0.5-192.168.50.1-814-19395-17  172.16.0.5   192.168.50.1   \n",
      "2   172.16.0.5-192.168.50.1-900-8848-17  172.16.0.5   192.168.50.1   \n",
      "3  172.16.0.5-192.168.50.1-931-14910-17  172.16.0.5   192.168.50.1   \n",
      "4  172.16.0.5-192.168.50.1-921-30678-17  172.16.0.5   192.168.50.1   \n",
      "\n",
      "                    Timestamp SimillarHTTP       Label  \n",
      "0  2018-12-01 10:41:35.465502            0   DrDoS_NTP  \n",
      "1  2018-12-01 10:42:06.928419            0   DrDoS_NTP  \n",
      "2  2018-12-01 11:32:19.016351            0  DrDoS_LDAP  \n",
      "3  2018-12-01 11:06:26.370349            0   DrDoS_DNS  \n",
      "4  2018-12-01 10:43:29.247830            0   DrDoS_NTP  \n",
      "   Flow ID  Source IP  Destination IP  Timestamp  SimillarHTTP  Label\n",
      "0    77557         31             180      15648             0      3\n",
      "1    57241         31             180      16727             0      3\n",
      "2    68907         31             180      56788             0      2\n",
      "3    72318         31             180      23531             0      1\n",
      "4    71228         31             180      19685             0      3\n"
     ]
    }
   ],
   "source": [
    "df_categorical_values_enc_train = df_categorical_values_train.apply(LabelEncoder().fit_transform)\n",
    "\n",
    "df_categorical_values_enc_test = df_categorical_values_test.apply(LabelEncoder().fit_transform)\n",
    "\n",
    "print(df_categorical_values_train.head())\n",
    "print(df_categorical_values_enc_train.head())\n",
    "\n",
    "# df_categorical_values_enc.value_counts()\n",
    "# df_categorical_values_enc['Label'].value_counts()"
   ]
  },
  {
   "cell_type": "code",
   "execution_count": null,
   "id": "demonstrated-salon",
   "metadata": {},
   "outputs": [],
   "source": [
    "columns_to_overwrite = ['Flow ID', 'Source IP', 'Destination IP',  'Timestamp', 'SimillarHTTP','Label']"
   ]
  },
  {
   "cell_type": "code",
   "execution_count": null,
   "id": "defensive-membrane",
   "metadata": {},
   "outputs": [],
   "source": [
    "df_train.drop(labels=columns_to_overwrite, axis=\"columns\", inplace=True)"
   ]
  },
  {
   "cell_type": "code",
   "execution_count": null,
   "id": "prescription-arbor",
   "metadata": {},
   "outputs": [],
   "source": [
    "df_test.drop(labels=columns_to_overwrite, axis=\"columns\", inplace=True)"
   ]
  },
  {
   "cell_type": "code",
   "execution_count": null,
   "id": "exempt-heading",
   "metadata": {},
   "outputs": [],
   "source": [
    "df_train.head()"
   ]
  },
  {
   "cell_type": "code",
   "execution_count": null,
   "id": "fresh-walker",
   "metadata": {},
   "outputs": [],
   "source": [
    "df_test.head()"
   ]
  },
  {
   "cell_type": "code",
   "execution_count": null,
   "id": "protective-vanilla",
   "metadata": {},
   "outputs": [],
   "source": [
    "df_train[columns_to_overwrite] = df_categorical_values_enc_train[columns_to_overwrite]\n",
    "df_train.head()"
   ]
  },
  {
   "cell_type": "code",
   "execution_count": null,
   "id": "eligible-walnut",
   "metadata": {},
   "outputs": [],
   "source": [
    "df_test[columns_to_overwrite] = df_categorical_values_enc_test[columns_to_overwrite]\n",
    "df_test.head()"
   ]
  },
  {
   "cell_type": "code",
   "execution_count": null,
   "id": "banned-martin",
   "metadata": {},
   "outputs": [],
   "source": [
    "df_train.to_csv('/home/bbm/Documents/Edu/AAU/Thesis/CICDDoS2019 Dataset/AlDDoS_train.csv', index = False)"
   ]
  },
  {
   "cell_type": "code",
   "execution_count": null,
   "id": "consecutive-result",
   "metadata": {},
   "outputs": [],
   "source": [
    "df_test.to_csv('/home/bbm/Documents/Edu/AAU/Thesis/CICDDoS2019 Dataset/AlDDoS_test.csv', index = False)"
   ]
  }
 ],
 "metadata": {
  "kernelspec": {
   "display_name": "Python 3",
   "language": "python",
   "name": "python3"
  },
  "language_info": {
   "codemirror_mode": {
    "name": "ipython",
    "version": 3
   },
   "file_extension": ".py",
   "mimetype": "text/x-python",
   "name": "python",
   "nbconvert_exporter": "python",
   "pygments_lexer": "ipython3",
   "version": "3.8.10"
  }
 },
 "nbformat": 4,
 "nbformat_minor": 5
}
