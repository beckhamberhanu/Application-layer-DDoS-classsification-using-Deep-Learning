{
 "cells": [
  {
   "cell_type": "code",
   "execution_count": 19,
   "id": "mental-flight",
   "metadata": {},
   "outputs": [],
   "source": [
    "import pandas as pd\n",
    "import random\n",
    "\n",
    "# data = pd.read_csv('/home/bbm/Documents/Edu/AAU/Thesis/CICDDoS2019 Dataset/DS/Classified/DDoS_DNS.csv')\n",
    "\n",
    "n = 5071011 # number of records in file\n",
    "s = 20000 # desired sample size\n",
    "\n",
    "filename = \"/home/bbm/Documents/Edu/AAU/Thesis/CICDDoS2019 Dataset/DS/Classified/DDoS_DNS.csv\"\n",
    "skip = sorted(random.sample(range(1, n+1),n-s))\n",
    "df = pd.read_csv(filename, skiprows=skip)\n",
    "\n",
    "df.to_csv('/home/bbm/Documents/Edu/AAU/Thesis/CICDDoS2019 Dataset/DS/Classified/AlDDoS.csv', index = False)"
   ]
  },
  {
   "cell_type": "code",
   "execution_count": null,
   "id": "protected-virtue",
   "metadata": {},
   "outputs": [],
   "source": [
    "To append randomly selected instances "
   ]
  },
  {
   "cell_type": "code",
   "execution_count": 18,
   "id": "lucky-basic",
   "metadata": {},
   "outputs": [],
   "source": [
    "\n",
    "\n",
    "import pandas as pd\n",
    "import random\n",
    "\n",
    "# data = pd.read_csv('/home/bbm/Documents/Edu/AAU/Thesis/CICDDoS2019 Dataset/DS/Classified/DDoS_DNS.csv')\n",
    "\n",
    "n = 3402 # number of records in file\n",
    "s = 1500 # desired sample size\n",
    "\n",
    "filename = \"/home/bbm/Documents/Edu/AAU/Thesis/CICDDoS2019 Dataset/DS/Classified/BENIGN_DNS.csv\"\n",
    "skip = sorted(random.sample(range(n),n-s))\n",
    "df = pd.read_csv(filename, skiprows=skip)\n",
    "\n",
    "df.to_csv('/home/bbm/Documents/Edu/AAU/Thesis/CICDDoS2019 Dataset/DS/Classified/AlDDoS.csv', mode='a', index = False, header=False)"
   ]
  },
  {
   "cell_type": "code",
   "execution_count": 12,
   "id": "stretch-native",
   "metadata": {},
   "outputs": [],
   "source": []
  },
  {
   "cell_type": "code",
   "execution_count": 8,
   "id": "painted-style",
   "metadata": {},
   "outputs": [],
   "source": []
  },
  {
   "cell_type": "code",
   "execution_count": 11,
   "id": "atlantic-contractor",
   "metadata": {},
   "outputs": [],
   "source": []
  },
  {
   "cell_type": "code",
   "execution_count": null,
   "id": "warming-retrieval",
   "metadata": {},
   "outputs": [],
   "source": []
  },
  {
   "cell_type": "code",
   "execution_count": null,
   "id": "directed-termination",
   "metadata": {},
   "outputs": [],
   "source": []
  }
 ],
 "metadata": {
  "kernelspec": {
   "display_name": "Python 3",
   "language": "python",
   "name": "python3"
  },
  "language_info": {
   "codemirror_mode": {
    "name": "ipython",
    "version": 3
   },
   "file_extension": ".py",
   "mimetype": "text/x-python",
   "name": "python",
   "nbconvert_exporter": "python",
   "pygments_lexer": "ipython3",
   "version": "3.8.10"
  }
 },
 "nbformat": 4,
 "nbformat_minor": 5
}
